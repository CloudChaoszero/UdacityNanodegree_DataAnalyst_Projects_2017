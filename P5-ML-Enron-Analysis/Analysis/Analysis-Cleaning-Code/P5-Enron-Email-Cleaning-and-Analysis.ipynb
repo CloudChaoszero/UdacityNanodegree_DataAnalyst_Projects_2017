{
 "cells": [
  {
   "cell_type": "markdown",
   "metadata": {
    "nbpresent": {
     "id": "80c6c411-03db-4a4e-a4c9-8e0c4e736cca"
    }
   },
   "source": [
    "# Enron Email Analysis \n",
    "_____\n",
    "\n",
    "**Dedication**\n",
    "\n",
    "I dedicate this analysis to myself \"March 2016\" self. After Graduating from [UC Davis](https://www.ucdavis.edu/), I spent my summer working at a cafe, meanwhile cold-applying to several data analyst jobs. However, I never got any responses... \n",
    "\n",
    "From there, I knew I had to prove I am a proficient data analyst.\n",
    "\n",
    "I have proved what I am from my past projects, and continue to advance my technical portfolio to cement this claim.\n",
    "\n",
    "\n",
    "** \"Difficult takes a day, impossible takes a week\"**\n",
    "\n",
    "**\\- Jay Z**\n",
    "\n",
    "___"
   ]
  },
  {
   "cell_type": "markdown",
   "metadata": {
    "collapsed": true,
    "nbpresent": {
     "id": "98dcd449-54a2-4f85-bd7c-79f9cb71c6c6"
    }
   },
   "source": [
    "![Enron Image](../../Images/Enron.jpg)\n",
    "\n",
    "[Enron: Fall of the Wall Street Darling: Gregory Smith](http://www.investopedia.com/updates/enron-scandal-summary/)\n",
    "\n",
    "## Background and Motivation\n",
    "\n",
    "### Background\n",
    "\n",
    "Enron Corporation was an American energy, commodities, and services company based in Houston, Texas. It was founded in 1985 as the result of a merger between Houston Natural Gas and InterNorth, both relatively small regional companies.\n",
    "\n",
    "At Enron's peak, its shares were worth \\$90.75, but after the company declared bankruptcy on December 2, 2001, they plummeted to \\$0.67 by January 2002. \n",
    "\n",
    "To this day, many wonder how such a powerful business diminished in a short time span...\n",
    "\n",
    "### Motivation\n",
    "\n",
    "In 2000, Enron was one of the largest companies in the United States. By 2002, it had collapsed into bankruptcy due to widespread corporate fraud. \n",
    "\n",
    "In the aftermath of this situation, Enron employee email conversations were then available to the general public. Particularly, Udacity's staff got their hands on it.\n",
    "\n",
    "We implement advance statistical techniques (Machine Learning) to analyze these real-life Enron employee emails. Our goal is to determine any significant patterns in relation to the [2002 Enron situation](https://en.wikipedia.org/wiki/Enron_scandal)."
   ]
  },
  {
   "cell_type": "markdown",
   "metadata": {
    "nbpresent": {
     "id": "cf25a52c-a82d-4a79-9e50-40a2d814408d"
    }
   },
   "source": [
    "___"
   ]
  },
  {
   "cell_type": "markdown",
   "metadata": {
    "collapsed": true,
    "nbpresent": {
     "id": "77bf653d-f19f-4f88-b180-162ac2feddfb"
    }
   },
   "source": [
    "## Data Import\n",
    "\n",
    "### Import"
   ]
  },
  {
   "cell_type": "code",
   "execution_count": 1,
   "metadata": {
    "nbpresent": {
     "id": "61716efd-52df-4eee-b43d-2f676e1336d8"
    }
   },
   "outputs": [
    {
     "name": "stderr",
     "output_type": "stream",
     "text": [
      "C:\\Anaconda3\\envs\\python27\\lib\\site-packages\\sklearn\\cross_validation.py:44: DeprecationWarning: This module was deprecated in version 0.18 in favor of the model_selection module into which all the refactored classes and functions are moved. Also note that the interface of the new CV iterators are different from that of this module. This module will be removed in 0.20.\n",
      "  \"This module will be removed in 0.20.\", DeprecationWarning)\n"
     ]
    }
   ],
   "source": [
    "import pickle #Serial/De-serializing Python objects\n",
    "import sys\n",
    "sys.path.append(\"../../Supplementary-Files\")\n",
    "\n",
    "\n",
    "import matplotlib.pyplot as plt\n",
    "import numpy as np\n",
    "\n",
    "import scipy\n",
    "import pprint\n",
    "\n",
    "import math\n",
    "\n",
    "from sklearn.metrics import classification_report\n",
    "\n",
    "\n",
    "from sklearn import svm\n",
    "import time\n",
    "from sklearn import metrics\n",
    "\n",
    "from sklearn.feature_selection import SelectKBest\n",
    "from sklearn.tree import DecisionTreeClassifier\n",
    "from feature_format import targetFeatureSplit\n",
    "from sklearn import cross_validation\n",
    "\n",
    "from sklearn.cross_validation import StratifiedShuffleSplit"
   ]
  },
  {
   "cell_type": "code",
   "execution_count": 2,
   "metadata": {
    "collapsed": true,
    "nbpresent": {
     "id": "1ca0b0a5-85b5-483a-9967-09a5803635f2"
    }
   },
   "outputs": [],
   "source": [
    "from feature_format import featureFormat"
   ]
  },
  {
   "cell_type": "code",
   "execution_count": 3,
   "metadata": {
    "collapsed": true,
    "nbpresent": {
     "id": "2839c2e9-e921-4d1c-a1c6-6d657b5d8a17"
    }
   },
   "outputs": [],
   "source": [
    "data_dict = pickle.load(open(\"../../Supplementary-Files/final_project_dataset.pkl\",\"r\"))"
   ]
  },
  {
   "cell_type": "markdown",
   "metadata": {
    "nbpresent": {
     "id": "9e3fe7f6-e6da-4f03-a455-33c0847be1ab"
    }
   },
   "source": [
    "### Characteristics\n",
    "\n",
    "#### Number of Features"
   ]
  },
  {
   "cell_type": "code",
   "execution_count": 4,
   "metadata": {
    "nbpresent": {
     "id": "14b5c10a-1150-409e-8177-7faf82a823d6"
    }
   },
   "outputs": [
    {
     "name": "stdout",
     "output_type": "stream",
     "text": [
      "The first 4 features:\n",
      " \n",
      "['salary', 'to_messages', 'deferral_payments', 'total_payments'] \n",
      " \n",
      " out of 21 features\n"
     ]
    }
   ],
   "source": [
    "features = list(data_dict.values()[1].keys())\n",
    "feature_count = len(features)\n",
    "print \"The first 4 features:\\n \\n\",features[0:4], \"\\n \\n out of {} features\".format(feature_count) "
   ]
  },
  {
   "cell_type": "markdown",
   "metadata": {
    "nbpresent": {
     "id": "675659fc-c959-4c82-829d-4af56d9a2e4a"
    }
   },
   "source": [
    "We observe the first four features in our enron dataset.\n",
    "\n",
    "Considering all 21 features, they can be categorized into three categories:\n",
    "\n",
    "1. **Financial Features (units in US Dollars):**\n",
    "    \n",
    "    a. salary\n",
    "    \n",
    "    b. deferral_payments\n",
    "    \n",
    "    c. total_payments\n",
    "    \n",
    "    d. loan_advances\n",
    "    \n",
    "    e. bonus\n",
    "    \n",
    "    f. restricted_stock_deferred\n",
    "    \n",
    "    g. deferred_income\n",
    "    \n",
    "    h. total_stock_value\n",
    "    \n",
    "    i. expenses\n",
    "    \n",
    "    j. exercised_stock_options\n",
    "    \n",
    "    k. other\n",
    "    \n",
    "    l. long_term_incentive\n",
    "    \n",
    "    m. restricted_stock\n",
    "    \n",
    "    n. director_fees\n",
    "2. **Email Features:**\n",
    "    a. to_messages\n",
    "    \n",
    "    b. email_address\n",
    "    \n",
    "    c. from_poi_to_this_person\n",
    "    \n",
    "    d. from_messages\n",
    "    \n",
    "    e. from_this_person_to_poi\n",
    "    \n",
    "    f. shared_receipt_with_poi\n",
    "3. **POI label:**\n",
    "\n",
    "    a. poi (person of interest)\n",
    "\n",
    "_(Data Dictionary can be found in the seperate \"Enron Person of Interest Report\" document )_\n",
    "\n",
    "#### Number of Entries"
   ]
  },
  {
   "cell_type": "code",
   "execution_count": 5,
   "metadata": {
    "collapsed": true,
    "nbpresent": {
     "id": "634007ce-61bf-47ad-800e-a09aa5188db8"
    }
   },
   "outputs": [],
   "source": [
    "#Count the # of keys/entries in a dictionary (rows of dataset)\n",
    "def dict_nrows(dictionary_dataset):\n",
    "    nrows = len(list(dictionary_dataset.keys()))\n",
    "    return nrows"
   ]
  },
  {
   "cell_type": "code",
   "execution_count": 6,
   "metadata": {
    "nbpresent": {
     "id": "31f22d80-d17f-464b-bc78-91152ddf0954"
    }
   },
   "outputs": [
    {
     "name": "stdout",
     "output_type": "stream",
     "text": [
      "146\n"
     ]
    }
   ],
   "source": [
    "number_of_entries =dict_nrows(data_dict)\n",
    "print(number_of_entries)"
   ]
  },
  {
   "cell_type": "markdown",
   "metadata": {
    "nbpresent": {
     "id": "7dcad84a-a67a-4215-b737-e4f117020ec5"
    }
   },
   "source": [
    "We have a total of 146 data points in our data dictionary."
   ]
  },
  {
   "cell_type": "markdown",
   "metadata": {
    "nbpresent": {
     "id": "e217d4b5-7a10-4cb4-8cb6-203acf9811d7"
    }
   },
   "source": [
    "#### Count of Non-Person of Interest(POI) and POI\n",
    "\n",
    "We want to identify the count of non-POI and POI. Since we are testing/identifying POI Enron employees, we need to gauge our label test size."
   ]
  },
  {
   "cell_type": "code",
   "execution_count": 7,
   "metadata": {
    "collapsed": true,
    "nbpresent": {
     "id": "9a899756-aa3c-42cb-8db9-393530ac9f9a"
    }
   },
   "outputs": [],
   "source": [
    "#Non POI and POI Counter\n",
    "def poi_counter(data_dictionary):\n",
    "    poi_count_dict ={'Total_non-POI':0, 'Total_POI':0}\n",
    "    \n",
    "    for key, value in data_dictionary.iteritems():\n",
    "        for inner_key, inner_val in value.iteritems():\n",
    "            if inner_key==\"poi\" and inner_val==True:\n",
    "                poi_count_dict['Total_POI'] +=1\n",
    "            elif inner_key==\"poi\" and inner_val==False:\n",
    "                poi_count_dict['Total_non-POI'] +=1\n",
    "            else:\n",
    "                pass\n",
    "                                \n",
    "    return(poi_count_dict)    "
   ]
  },
  {
   "cell_type": "code",
   "execution_count": 8,
   "metadata": {
    "collapsed": true,
    "nbpresent": {
     "id": "4d499fa3-b7b4-4cf4-9f2b-2f56458a2165"
    }
   },
   "outputs": [],
   "source": [
    "poi_count_dict = poi_counter(data_dict)"
   ]
  },
  {
   "cell_type": "code",
   "execution_count": 9,
   "metadata": {
    "nbpresent": {
     "id": "e8b1cf8c-d310-4040-98b7-e67f3274deb3"
    }
   },
   "outputs": [
    {
     "data": {
      "text/plain": [
       "{'Total_POI': 18, 'Total_non-POI': 128}"
      ]
     },
     "execution_count": 9,
     "metadata": {},
     "output_type": "execute_result"
    }
   ],
   "source": [
    "poi_count_dict"
   ]
  },
  {
   "cell_type": "markdown",
   "metadata": {
    "nbpresent": {
     "id": "bd80544e-de43-44c4-869d-d151c8f2550a"
    }
   },
   "source": [
    "Of the 146 entries, 18 people are \"Person of Interest.\" I.e. $\\text{# of Person of Interest(POI)} = \\dfrac{18}{146}$\n",
    "\n",
    "> As a quick clarification to the reader, **Person of Interest** is defined as fraudulent Enron Employees from the 2002 Enron crisis"
   ]
  },
  {
   "cell_type": "markdown",
   "metadata": {
    "nbpresent": {
     "id": "60aaaf1e-b503-487f-a999-52695770a07a"
    }
   },
   "source": [
    "## Feature Selection: A discussion\n",
    "\n",
    "    \n",
    "The goal of our analysis is to discover unpleasant findings with respect to Enron's 2002 crisis. \n",
    "\n",
    "We can observe the email features/conversations to discover absurd findings. However, let's take a simplier approach; can we discern crucial correlations from just two pieces of financial infromation? We first consider two financial features; we consider \"salary\" and \"bonus\" variables from the enron dataset.\n",
    "\n",
    "These two evaluated variables allow us to potentially conclude our project early on to determine obscure findings.\n",
    "\n",
    "### Obtain Sample Matrix"
   ]
  },
  {
   "cell_type": "markdown",
   "metadata": {
    "nbpresent": {
     "id": "3f512534-eb80-404e-a577-103bc456600e"
    }
   },
   "source": [
    "Using our provided featureFormat import, we create an n x 2 matrix between with salary and bonus features, respectively.\n",
    "\n",
    "Thereafter, we verify the first five rows of the matrix"
   ]
  },
  {
   "cell_type": "code",
   "execution_count": 10,
   "metadata": {
    "collapsed": true,
    "nbpresent": {
     "id": "8945c9a8-87c2-44d8-925a-52c4732b38cf"
    }
   },
   "outputs": [],
   "source": [
    "features_selected = [\"salary\", \"bonus\"]"
   ]
  },
  {
   "cell_type": "code",
   "execution_count": 11,
   "metadata": {
    "collapsed": true,
    "nbpresent": {
     "id": "5c125890-926d-4c63-b844-f3fb812d9554"
    }
   },
   "outputs": [],
   "source": [
    "enron_ds_salBon = featureFormat(data_dict,features_selected )"
   ]
  },
  {
   "cell_type": "code",
   "execution_count": 12,
   "metadata": {
    "nbpresent": {
     "id": "776f7d9a-2efb-475b-9dd4-3d6f539b7d30"
    }
   },
   "outputs": [
    {
     "name": "stdout",
     "output_type": "stream",
     "text": [
      "[[  365788.   600000.]\n",
      " [  267102.  1200000.]\n",
      " [  170941.   350000.]\n",
      " [  243293.  1500000.]\n",
      " [  267093.   325000.]]\n"
     ]
    }
   ],
   "source": [
    "print(enron_ds_salBon[0:5])"
   ]
  },
  {
   "cell_type": "markdown",
   "metadata": {
    "nbpresent": {
     "id": "3c605038-aa3c-4e35-9e9e-fcf9dca4f16e"
    }
   },
   "source": [
    "The first column is salary values, and the latter is bonus values."
   ]
  },
  {
   "cell_type": "markdown",
   "metadata": {
    "nbpresent": {
     "id": "b50452d1-689e-4a22-b20b-f2194eb201e1"
    }
   },
   "source": [
    "### Parsing Matrix and Visualization\n",
    "\n",
    "We parse the matrix into two arrays for a Salary vs Raise Scatterplot."
   ]
  },
  {
   "cell_type": "code",
   "execution_count": 13,
   "metadata": {
    "collapsed": true,
    "nbpresent": {
     "id": "aa0a018c-5ef6-411c-a175-8d0199f5f31a"
    }
   },
   "outputs": [],
   "source": [
    "enron_ds_sal = enron_ds_salBon[:,0]\n",
    "enron_ds_raise = enron_ds_salBon[:,1]"
   ]
  },
  {
   "cell_type": "markdown",
   "metadata": {
    "nbpresent": {
     "id": "b7f37389-87c0-4c89-b61d-18bfd023dabb"
    }
   },
   "source": [
    "#### Salary vs Raise Visualization"
   ]
  },
  {
   "cell_type": "code",
   "execution_count": 14,
   "metadata": {
    "nbpresent": {
     "id": "6b8d6341-17ff-4661-bffe-2949b892e7b2"
    },
    "scrolled": true
   },
   "outputs": [
    {
     "data": {
      "image/png": "[encoded data removed]",
      "text/plain": [
       "<matplotlib.figure.Figure at 0x4281f28>"
      ]
     },
     "metadata": {},
     "output_type": "display_data"
    }
   ],
   "source": [
    "plt.scatter(enron_ds_sal,enron_ds_raise)\n",
    "\n",
    "plt.xlabel(\"Salary\")\n",
    "plt.ylabel(\"Raises\")\n",
    "plt.title(\"Salary vs Raises\")\n",
    "plt.savefig(\"../../Output-Files/Report_Images/SalaryvRaises_0.jpg\")\n",
    "plt.show()"
   ]
  },
  {
   "cell_type": "markdown",
   "metadata": {
    "nbpresent": {
     "id": "e6a2d847-97ba-462c-b502-0e446f23a30c"
    }
   },
   "source": [
    "Odd. \n",
    "\n",
    "We observe some significant outlier at the point $(1.0 \\text{x} 10^8,2.5\\text{x} 10^7$) affecting our overall visualization.\n",
    "\n",
    "We zoom in our graph by rescaling the x and y axis in the following graph"
   ]
  },
  {
   "cell_type": "code",
   "execution_count": 15,
   "metadata": {
    "nbpresent": {
     "id": "c9be52d0-e461-44af-9920-36e2e0e22ce8"
    }
   },
   "outputs": [
    {
     "data": {
      "image/png": "[encoded data removed]",
      "text/plain": [
       "<matplotlib.figure.Figure at 0x9bf9fd0>"
      ]
     },
     "metadata": {},
     "output_type": "display_data"
    }
   ],
   "source": [
    "#Exclude Extreme Values in Visualization\n",
    "\n",
    "enron_ds_sal_min = np.min(enron_ds_sal) #Minimum x axis value\n",
    "enron_ds_sal_max = np.max(enron_ds_sal) #Maximum x axis value\n",
    "\n",
    "enron_ds_raises_min = np.min(enron_ds_raise) #Minimum y axis value\n",
    "enron_ds_raises_max = np.max(enron_ds_raise) #Maximum x axis value\n",
    "\n",
    "#plot scatterplot\n",
    "plt.scatter(enron_ds_sal,enron_ds_raise)\n",
    "\n",
    "#labels\n",
    "plt.xlabel(\"Salary\")\n",
    "plt.ylabel(\"Raises\")\n",
    "plt.title(\"Salary vs Raises\")\n",
    "\n",
    "#rescales axes\n",
    "plt.ylim(enron_ds_sal_min, enron_ds_sal_max-21000000)\n",
    "plt.xlim(enron_ds_raises_min,enron_ds_raises_min+700000)\n",
    "\n",
    "#Display Scatterplot\n",
    "plt.show()"
   ]
  },
  {
   "cell_type": "markdown",
   "metadata": {
    "nbpresent": {
     "id": "2e299f87-ad08-4131-b071-f2413ad050cf"
    }
   },
   "source": [
    "Much better! \n",
    "\n",
    "Without somme significantly high values affecting our Salary vs Raises Scatterplot, we have now zoomed in the graph and observed some form of linearity between the two features. That is, as some salary $x$ goes up, we tend to observe larger raises.\n",
    "\n",
    "#### Statistical Summary\n",
    "\n",
    "The following lies statistical output for the Salary vs Raises consideration."
   ]
  },
  {
   "cell_type": "code",
   "execution_count": 16,
   "metadata": {
    "nbpresent": {
     "id": "db6104fb-196d-4356-95b4-d1dda407e6e0"
    }
   },
   "outputs": [
    {
     "name": "stdout",
     "output_type": "stream",
     "text": [
      "Described output for Salary vs Raises\n",
      "DescribeResult(nobs=95L, minmax=(array([ 477.,    0.]), array([ 26704229.,  97343619.])), mean=array([  562194.29473684,  2049339.34736842]), variance=array([  7.37866138e+12,   9.95751069e+13]), skewness=array([ 9.53125149,  9.31531747]), kurtosis=array([ 89.22989094,  86.42271551]))\n",
      "\n",
      "Correlation Coefficient:  0.99321115087 \n",
      "P-Value 1.06457686411e-88\n"
     ]
    }
   ],
   "source": [
    "print \"Described output for Salary vs Raises\"\n",
    "pprint.pprint(scipy.stats.describe(enron_ds_salBon) )\n",
    "print \n",
    "print\"Correlation Coefficient: \",scipy.stats.pearsonr(enron_ds_raise,enron_ds_sal)[0], \"\\n\",\"P-Value\",scipy.stats.pearsonr(enron_ds_raise,enron_ds_sal)[1]"
   ]
  },
  {
   "cell_type": "markdown",
   "metadata": {
    "nbpresent": {
     "id": "0ba7a7c4-cf1e-4f47-915a-ba6e06eb9d34"
    }
   },
   "source": [
    "We observe a large amount of correlation between two two features. However, we did not exclude the extreme outlier case from this brief analysis. \n",
    "\n",
    "As a forethought, we need to observe the occurance of this high value, and determine if we are required to remove it from our analysis.\n",
    "\n",
    "#### Upper Outlier Investigation\n",
    "\n",
    "After some investigation, we find:\n",
    "\n",
    "1. Some of the abnormal data points occur from person's of interest (poi). I.e., We find some abnormally large points occuring from corrupt enron individuals.\n",
    "\n",
    "2. Thought these corrupt individuals affect our analysis, they are not the cause for the absurd outlying case. There is one point we must consider in our extreme case..."
   ]
  },
  {
   "cell_type": "code",
   "execution_count": 17,
   "metadata": {
    "collapsed": true,
    "nbpresent": {
     "id": "87ac03ad-c8be-4a22-a105-5776b0799072"
    }
   },
   "outputs": [],
   "source": [
    "def detect_upper_outliers(array):\n",
    "    upper_out = []\n",
    "    upper = (1.5)* np.percentile(array,75)\n",
    "    for element in array:\n",
    "        if element > upper:\n",
    "            upper_out.append(element)\n",
    "        else:\n",
    "            pass\n",
    "    return(upper_out)"
   ]
  },
  {
   "cell_type": "markdown",
   "metadata": {
    "nbpresent": {
     "id": "d401264e-c9e8-43ce-b4a1-ad94ba6211ba"
    }
   },
   "source": [
    "The above is an outlier detection function for some given numerical positive value array. We categorized data points as upper outliers from the following definition:\n",
    "\n",
    "> **Upper Outliers:** Data points <span style= \"color:red\">greater than</span> 1.5 $\\cdot$ $q_3$, where $q_3$ is the value at 75% of some array/vector of values."
   ]
  },
  {
   "cell_type": "code",
   "execution_count": 18,
   "metadata": {
    "nbpresent": {
     "id": "be3d3386-5ddd-47b8-8a0b-32d42de5e17f"
    }
   },
   "outputs": [
    {
     "data": {
      "text/plain": [
       "[2600000.0,\n",
       " 3100000.0,\n",
       " 2000000.0,\n",
       " 1700000.0,\n",
       " 8000000.0,\n",
       " 3000000.0,\n",
       " 3000000.0,\n",
       " 7000000.0,\n",
       " 5249999.0,\n",
       " 1750000.0,\n",
       " 5600000.0,\n",
       " 97343619.0,\n",
       " 4175000.0,\n",
       " 2000000.0,\n",
       " 2500000.0]"
      ]
     },
     "execution_count": 18,
     "metadata": {},
     "output_type": "execute_result"
    }
   ],
   "source": [
    "enron_ds_raise_outliers = detect_upper_outliers(enron_ds_raise)\n",
    "enron_ds_raise_outliers"
   ]
  },
  {
   "cell_type": "markdown",
   "metadata": {
    "nbpresent": {
     "id": "9192d61d-bfa6-467c-a682-15ec94412202"
    }
   },
   "source": [
    "From the raise data in our sample enron dataset, we find several values as upper postive outliers. \n",
    "\n",
    "However, notice the significant difference between $\\$97343619.0$ and the remaining values. \n",
    "\n",
    "The $\\$97343619.0$ value is a factor of 10 time greater than that of the remaining values. Filtering out our dictionary values, we observe this value coming from the \"Total\" entry, seen below. \n",
    "\n",
    "Moreover, there seems to be two people named \"Travel Agency in The Park\" and \"TOTAL\"--odd.\n",
    "\n",
    "Clearly these entries do not represent Enron Employees, but rather some summary or general information surrounding the Enron Employees. We take out these values."
   ]
  },
  {
   "cell_type": "code",
   "execution_count": 19,
   "metadata": {
    "nbpresent": {
     "id": "303adeb6-1673-4601-9969-11ba4c767e74"
    }
   },
   "outputs": [
    {
     "data": {
      "text/plain": [
       "{'bonus': 97343619,\n",
       " 'deferral_payments': 32083396,\n",
       " 'deferred_income': -27992891,\n",
       " 'director_fees': 1398517,\n",
       " 'email_address': 'NaN',\n",
       " 'exercised_stock_options': 311764000,\n",
       " 'expenses': 5235198,\n",
       " 'from_messages': 'NaN',\n",
       " 'from_poi_to_this_person': 'NaN',\n",
       " 'from_this_person_to_poi': 'NaN',\n",
       " 'loan_advances': 83925000,\n",
       " 'long_term_incentive': 48521928,\n",
       " 'other': 42667589,\n",
       " 'poi': False,\n",
       " 'restricted_stock': 130322299,\n",
       " 'restricted_stock_deferred': -7576788,\n",
       " 'salary': 26704229,\n",
       " 'shared_receipt_with_poi': 'NaN',\n",
       " 'to_messages': 'NaN',\n",
       " 'total_payments': 309886585,\n",
       " 'total_stock_value': 434509511}"
      ]
     },
     "execution_count": 19,
     "metadata": {},
     "output_type": "execute_result"
    }
   ],
   "source": [
    "data_dict['TOTAL']"
   ]
  },
  {
   "cell_type": "code",
   "execution_count": 20,
   "metadata": {
    "nbpresent": {
     "id": "c38a64e3-476c-4407-ae81-b95566a76944"
    }
   },
   "outputs": [
    {
     "data": {
      "text/plain": [
       "{'bonus': 'NaN',\n",
       " 'deferral_payments': 'NaN',\n",
       " 'deferred_income': 'NaN',\n",
       " 'director_fees': 'NaN',\n",
       " 'email_address': 'NaN',\n",
       " 'exercised_stock_options': 'NaN',\n",
       " 'expenses': 'NaN',\n",
       " 'from_messages': 'NaN',\n",
       " 'from_poi_to_this_person': 'NaN',\n",
       " 'from_this_person_to_poi': 'NaN',\n",
       " 'loan_advances': 'NaN',\n",
       " 'long_term_incentive': 'NaN',\n",
       " 'other': 362096,\n",
       " 'poi': False,\n",
       " 'restricted_stock': 'NaN',\n",
       " 'restricted_stock_deferred': 'NaN',\n",
       " 'salary': 'NaN',\n",
       " 'shared_receipt_with_poi': 'NaN',\n",
       " 'to_messages': 'NaN',\n",
       " 'total_payments': 362096,\n",
       " 'total_stock_value': 'NaN'}"
      ]
     },
     "execution_count": 20,
     "metadata": {},
     "output_type": "execute_result"
    }
   ],
   "source": [
    "data_dict['THE TRAVEL AGENCY IN THE PARK']"
   ]
  },
  {
   "cell_type": "code",
   "execution_count": 21,
   "metadata": {
    "nbpresent": {
     "id": "bf33dea3-5d40-4eff-af35-77726f73720d"
    }
   },
   "outputs": [
    {
     "data": {
      "text/plain": [
       "[510364.0, 1072321.0, 1111258.0, 655037.0, 26704229.0, 492375.0, 1060932.0]"
      ]
     },
     "execution_count": 21,
     "metadata": {},
     "output_type": "execute_result"
    }
   ],
   "source": [
    "enron_ds_sal_outliers = detect_upper_outliers(enron_ds_sal)\n",
    "enron_ds_sal_outliers"
   ]
  },
  {
   "cell_type": "markdown",
   "metadata": {
    "nbpresent": {
     "id": "08719dd7-7004-43db-8bba-a8ea0686a804"
    }
   },
   "source": [
    "Detecting the Enron employee salary information, we found an estimated 8 outliers. Moreover, we can confirm \"Total\" affecting our analysis from the value $\\$26704229.0$"
   ]
  },
  {
   "cell_type": "markdown",
   "metadata": {
    "nbpresent": {
     "id": "cd55a076-e4db-4e2d-b814-986c4c0c77f8"
    }
   },
   "source": [
    "### Undefined Value Extraction and Visualization\n",
    "\n",
    "The following is outlier extraction from the extreme \"Total\" case and any additional slight-signficicant outliers for Scatterplot visalization.\n",
    "\n",
    "The steps for this process are as followed:\n",
    "\n",
    "1. Create undefined tracking dictionary for our data dictionary\n",
    "\n",
    "2. Extract \"Total\" entry\n",
    "\n",
    "3. From the tracked obscure entries/values, remove them\n",
    "\n",
    "4. Create our defined values Salary versus Raise dataset\n",
    "\n",
    "5. Salary versus Raise Scatterplot\n",
    "\n",
    "####  Create Undefined tracking dictionary"
   ]
  },
  {
   "cell_type": "code",
   "execution_count": 22,
   "metadata": {
    "collapsed": true,
    "nbpresent": {
     "id": "e0923fb7-33e3-46ad-bcf0-76372bd01b77"
    }
   },
   "outputs": [],
   "source": [
    "undef_dict = {}\n",
    "for key, value in data_dict.iteritems():\n",
    "    for el in enron_ds_sal_outliers:\n",
    "        if value['salary'] == el:\n",
    "            undef_dict[key] = value\n",
    "        elif value['salary'] ==\"NaN\":\n",
    "            undef_dict[key] = value\n",
    "    \n",
    "    for el in enron_ds_raise_outliers:\n",
    "        if value[\"bonus\"] == el:\n",
    "            if key in undef_dict.keys():\n",
    "                pass\n",
    "            else:\n",
    "                undef_dict[key] = value\n",
    "        elif value['bonus'] ==\"NaN\":\n",
    "            if key in undef_dict.keys():\n",
    "                pass\n",
    "            else:\n",
    "                undef_dict[key] = value\n",
    "        else:\n",
    "            pass"
   ]
  },
  {
   "cell_type": "markdown",
   "metadata": {
    "nbpresent": {
     "id": "b85bda8c-311e-46f2-b955-7a9d442e8656"
    }
   },
   "source": [
    "We have now created a dictionary tracking the undefined/bad data points that need to be extracted. Now, we take out the \"TOTAL\" and \"The Traveler In The Park\" entries that originally affected our Scatterplot."
   ]
  },
  {
   "cell_type": "code",
   "execution_count": 23,
   "metadata": {
    "nbpresent": {
     "id": "f6197e24-ab66-443e-b953-bbc245757dde"
    }
   },
   "outputs": [
    {
     "name": "stdout",
     "output_type": "stream",
     "text": [
      "['HORTON STANLEY C', 'CORDES WILLIAM R', 'BHATNAGAR SANJAY', 'LEWIS RICHARD', 'HAYES ROBERT E', 'SAVAGE FRANK', 'HAYSLETT RODERICK J', 'URQUHART JOHN A', 'MCMAHON JEFFREY', 'REDMOND BRIAN L'] \n",
      "\n",
      "are the initial 10 people imposing a sigificant result in our analysis, from\n",
      "81 amount of outlying persons\n"
     ]
    }
   ],
   "source": [
    "undef_dict.keys()\n",
    "undef_keys = list(undef_dict.keys())\n",
    "print undef_keys[:10],\"\\n\\nare the initial 10 people imposing a sigificant result in our analysis, from\\n\", len(undef_dict), \"amount of outlying persons\""
   ]
  },
  {
   "cell_type": "markdown",
   "metadata": {
    "nbpresent": {
     "id": "6fea2e9a-8f6a-4f7a-89da-86aeed9a822a"
    }
   },
   "source": [
    "#### Remove \"Total\" entry"
   ]
  },
  {
   "cell_type": "code",
   "execution_count": 24,
   "metadata": {
    "nbpresent": {
     "id": "4b9d56a8-86cd-483f-b276-e043881ec2d4"
    }
   },
   "outputs": [
    {
     "data": {
      "text/plain": [
       "{'bonus': 97343619,\n",
       " 'deferral_payments': 32083396,\n",
       " 'deferred_income': -27992891,\n",
       " 'director_fees': 1398517,\n",
       " 'email_address': 'NaN',\n",
       " 'exercised_stock_options': 311764000,\n",
       " 'expenses': 5235198,\n",
       " 'from_messages': 'NaN',\n",
       " 'from_poi_to_this_person': 'NaN',\n",
       " 'from_this_person_to_poi': 'NaN',\n",
       " 'loan_advances': 83925000,\n",
       " 'long_term_incentive': 48521928,\n",
       " 'other': 42667589,\n",
       " 'poi': False,\n",
       " 'restricted_stock': 130322299,\n",
       " 'restricted_stock_deferred': -7576788,\n",
       " 'salary': 26704229,\n",
       " 'shared_receipt_with_poi': 'NaN',\n",
       " 'to_messages': 'NaN',\n",
       " 'total_payments': 309886585,\n",
       " 'total_stock_value': 434509511}"
      ]
     },
     "execution_count": 24,
     "metadata": {},
     "output_type": "execute_result"
    }
   ],
   "source": [
    "undef_dict.pop(\"TOTAL\")"
   ]
  },
  {
   "cell_type": "markdown",
   "metadata": {
    "nbpresent": {
     "id": "fc4af007-0019-415b-950a-88885b079ccb"
    }
   },
   "source": [
    "#### Remove \"TRAVEL AGENCY IN THE PARK\" entry"
   ]
  },
  {
   "cell_type": "code",
   "execution_count": 25,
   "metadata": {
    "nbpresent": {
     "id": "c9d337f4-280c-417a-96e6-149b42a23f8b"
    }
   },
   "outputs": [
    {
     "data": {
      "text/plain": [
       "{'bonus': 'NaN',\n",
       " 'deferral_payments': 'NaN',\n",
       " 'deferred_income': 'NaN',\n",
       " 'director_fees': 'NaN',\n",
       " 'email_address': 'NaN',\n",
       " 'exercised_stock_options': 'NaN',\n",
       " 'expenses': 'NaN',\n",
       " 'from_messages': 'NaN',\n",
       " 'from_poi_to_this_person': 'NaN',\n",
       " 'from_this_person_to_poi': 'NaN',\n",
       " 'loan_advances': 'NaN',\n",
       " 'long_term_incentive': 'NaN',\n",
       " 'other': 362096,\n",
       " 'poi': False,\n",
       " 'restricted_stock': 'NaN',\n",
       " 'restricted_stock_deferred': 'NaN',\n",
       " 'salary': 'NaN',\n",
       " 'shared_receipt_with_poi': 'NaN',\n",
       " 'to_messages': 'NaN',\n",
       " 'total_payments': 362096,\n",
       " 'total_stock_value': 'NaN'}"
      ]
     },
     "execution_count": 25,
     "metadata": {},
     "output_type": "execute_result"
    }
   ],
   "source": [
    "undef_dict.pop('THE TRAVEL AGENCY IN THE PARK')"
   ]
  },
  {
   "cell_type": "markdown",
   "metadata": {},
   "source": [
    "#### Remove An Enron Employee entry\n",
    "\n",
    "Observing some of the data through a table, we noticed an Enron Employee that was not recorded correctly. I.e., We see Eugene LockHart's information not available in the Enron Dataset. \n",
    "\n",
    "Because this employee's information was not properly tracked, we remove the entry."
   ]
  },
  {
   "cell_type": "code",
   "execution_count": 26,
   "metadata": {},
   "outputs": [
    {
     "data": {
      "text/plain": [
       "{'bonus': 'NaN',\n",
       " 'deferral_payments': 'NaN',\n",
       " 'deferred_income': 'NaN',\n",
       " 'director_fees': 'NaN',\n",
       " 'email_address': 'NaN',\n",
       " 'exercised_stock_options': 'NaN',\n",
       " 'expenses': 'NaN',\n",
       " 'from_messages': 'NaN',\n",
       " 'from_poi_to_this_person': 'NaN',\n",
       " 'from_this_person_to_poi': 'NaN',\n",
       " 'loan_advances': 'NaN',\n",
       " 'long_term_incentive': 'NaN',\n",
       " 'other': 'NaN',\n",
       " 'poi': False,\n",
       " 'restricted_stock': 'NaN',\n",
       " 'restricted_stock_deferred': 'NaN',\n",
       " 'salary': 'NaN',\n",
       " 'shared_receipt_with_poi': 'NaN',\n",
       " 'to_messages': 'NaN',\n",
       " 'total_payments': 'NaN',\n",
       " 'total_stock_value': 'NaN'}"
      ]
     },
     "execution_count": 26,
     "metadata": {},
     "output_type": "execute_result"
    }
   ],
   "source": [
    "undef_dict.pop('LOCKHART EUGENE E')"
   ]
  },
  {
   "cell_type": "markdown",
   "metadata": {
    "nbpresent": {
     "id": "548b8ec0-ccec-4466-b884-a378c40dcc26"
    }
   },
   "source": [
    "#### Create Defined Dictionary"
   ]
  },
  {
   "cell_type": "code",
   "execution_count": 27,
   "metadata": {
    "collapsed": true,
    "nbpresent": {
     "id": "15c74e65-07fc-40f9-bd25-7e5223229aa1"
    }
   },
   "outputs": [],
   "source": [
    "data_dict_no_undef = data_dict.copy()\n",
    "for undef_element in undef_keys:\n",
    "    if undef_element in data_dict_no_undef :\n",
    "        del data_dict_no_undef[undef_element]"
   ]
  },
  {
   "cell_type": "markdown",
   "metadata": {
    "nbpresent": {
     "id": "f26d982a-702b-49af-8a57-ac84f374522f"
    }
   },
   "source": [
    "#### Defined Values Dataset"
   ]
  },
  {
   "cell_type": "code",
   "execution_count": 28,
   "metadata": {
    "collapsed": true,
    "nbpresent": {
     "id": "eb70e190-e0b6-4d25-acfd-64e1dfc686c8"
    }
   },
   "outputs": [],
   "source": [
    "enron_ds_salBon_no_undef = featureFormat(data_dict_no_undef,features_selected )\n",
    "enron_ds_sal_no_undef = enron_ds_salBon_no_undef[:,0]\n",
    "enron_ds_raise_no_undef = enron_ds_salBon_no_undef[:,1]"
   ]
  },
  {
   "cell_type": "markdown",
   "metadata": {
    "nbpresent": {
     "id": "172c91b2-1951-4366-9eb2-4ecdca65caaa"
    }
   },
   "source": [
    "#### Salary versus Raise (defined) Scatterplot\n",
    "\n",
    "With the removal of the \"TOTAL\" and \"THE TRAVEL AGENCY IN THE PARK\" data points, re-visualize the Salary versus Raise Scatterplot below."
   ]
  },
  {
   "cell_type": "code",
   "execution_count": 29,
   "metadata": {
    "nbpresent": {
     "id": "ee31c4b3-7d31-4a96-b2fc-1a8fd7707009"
    }
   },
   "outputs": [
    {
     "data": {
      "image/png": "[encoded data removed]",
      "text/plain": [
       "<matplotlib.figure.Figure at 0xa051e80>"
      ]
     },
     "metadata": {},
     "output_type": "display_data"
    }
   ],
   "source": [
    "plt.scatter(enron_ds_sal_no_undef,enron_ds_raise_no_undef )\n",
    "\n",
    "plt.xlabel(\"Salary\")\n",
    "plt.ylabel(\"Raises\")\n",
    "plt.title(\"Salary vs Raises\")\n",
    "plt.savefig(\"../../Output-Files/Report_Images/SalaryvRaises_1.jpg\")\n",
    "plt.show()"
   ]
  },
  {
   "cell_type": "markdown",
   "metadata": {
    "nbpresent": {
     "id": "b9a9740b-6468-45ae-afd4-49d32b89def2"
    }
   },
   "source": [
    "Along with this visualization, we provide some brief statistics on Salary vs. Raises"
   ]
  },
  {
   "cell_type": "code",
   "execution_count": 30,
   "metadata": {
    "nbpresent": {
     "id": "94534003-4ac1-4119-a11d-45e199e672cc"
    }
   },
   "outputs": [
    {
     "name": "stdout",
     "output_type": "stream",
     "text": [
      "Described output for Salary vs Raises\n",
      "DescribeResult(nobs=65L, minmax=(array([ 76399.,  70000.]), array([  440698.,  1500000.])), mean=array([ 263358.16923077,  685671.07692308]), variance=array([  4.27305011e+09,   1.25704380e+11]), skewness=array([ 0.56259694,  0.31932616]), kurtosis=array([ 1.16526257, -0.58418445]))\n",
      "\n",
      "Correlation Coefficient:  0.99321115087 \n",
      "P-Value 1.06457686411e-88\n"
     ]
    }
   ],
   "source": [
    "print \"Described output for Salary vs Raises\"\n",
    "pprint.pprint(scipy.stats.describe(enron_ds_salBon_no_undef) )\n",
    "print \n",
    "print\"Correlation Coefficient: \",scipy.stats.pearsonr(enron_ds_raise,enron_ds_sal)[0], \"\\n\",\"P-Value\",scipy.stats.pearsonr(enron_ds_raise,enron_ds_sal)[1]"
   ]
  },
  {
   "cell_type": "markdown",
   "metadata": {
    "nbpresent": {
     "id": "b38d9ffb-71ca-401e-905d-9475931a6c9f"
    }
   },
   "source": [
    "We observe a 99.3% correlation value with a very small chance of predicting Salary vs Raises by chance. I.e., we observe observe strong linearity between the two variables with a p value of $1.06x{10^{-88}}$.\n",
    "\n",
    "However, these two variables to not answer our original equation. Yes, it's nice to go through this analysis. But, but, we do not answer the question \"Is there some indication of fraud from Enron employees from the given information.\" \n",
    "\n",
    "No. We have only done two things, which are far away from our goal.\n",
    "\n",
    "We have:\n",
    "1. Observed the financial dependence of salary to that of raises. That is, we observe an expected proportion of a  bonus, for some given salary.\n",
    "\n",
    "2. Found outlier cases within our analysis. \n",
    "\n",
    "Going forward, we need to apply some logistic regression to answer if there exists some occurance of fraud from the given data. Moreover, we need to be aware of bad and outlying data values that could propogate error in our analysis.\n",
    "\n",
    "___"
   ]
  },
  {
   "cell_type": "markdown",
   "metadata": {
    "nbpresent": {
     "id": "16cfe293-a5be-4f99-8f11-a29a3f36625a"
    }
   },
   "source": [
    "## Enron Information Evaluation\n",
    "\n",
    "We determine the existence of fraud from Enron employees from the given information. It can be hard to indicate what features we need to answer our question. However, we utlize advance techniques to significantly decrease the time spend on evaluating what features to select.\n",
    "\n",
    "Moreover, we investigate the accuracy of using advanced models to determine optimal features.\n",
    "\n",
    "Lastly, we validate the final model utilized in predicting POI individuals from the 2002 Enron situation.\n",
    "\n",
    "### Import"
   ]
  },
  {
   "cell_type": "code",
   "execution_count": 31,
   "metadata": {
    "collapsed": true,
    "nbpresent": {
     "id": "d10f2f90-6dd2-44d6-968a-1ade60c4f2d2"
    }
   },
   "outputs": [],
   "source": [
    "dataset = pickle.load(open(\"../../Supplementary-Files/final_project_dataset.pkl\",\"r\"))"
   ]
  },
  {
   "cell_type": "markdown",
   "metadata": {
    "nbpresent": {
     "id": "f696a7f5-20ca-43a1-9260-ec8baf589100"
    }
   },
   "source": [
    "### Data Munging\n",
    "\n",
    "#### Removing Extreme \"TOTAL\" Outlier Case"
   ]
  },
  {
   "cell_type": "code",
   "execution_count": 32,
   "metadata": {
    "nbpresent": {
     "id": "6e116c5a-4061-4782-95c3-451d38085412"
    }
   },
   "outputs": [
    {
     "data": {
      "text/plain": [
       "{'bonus': 97343619,\n",
       " 'deferral_payments': 32083396,\n",
       " 'deferred_income': -27992891,\n",
       " 'director_fees': 1398517,\n",
       " 'email_address': 'NaN',\n",
       " 'exercised_stock_options': 311764000,\n",
       " 'expenses': 5235198,\n",
       " 'from_messages': 'NaN',\n",
       " 'from_poi_to_this_person': 'NaN',\n",
       " 'from_this_person_to_poi': 'NaN',\n",
       " 'loan_advances': 83925000,\n",
       " 'long_term_incentive': 48521928,\n",
       " 'other': 42667589,\n",
       " 'poi': False,\n",
       " 'restricted_stock': 130322299,\n",
       " 'restricted_stock_deferred': -7576788,\n",
       " 'salary': 26704229,\n",
       " 'shared_receipt_with_poi': 'NaN',\n",
       " 'to_messages': 'NaN',\n",
       " 'total_payments': 309886585,\n",
       " 'total_stock_value': 434509511}"
      ]
     },
     "execution_count": 32,
     "metadata": {},
     "output_type": "execute_result"
    }
   ],
   "source": [
    "dataset.pop(\"TOTAL\")"
   ]
  },
  {
   "cell_type": "code",
   "execution_count": 33,
   "metadata": {
    "nbpresent": {
     "id": "4c9b75ad-732f-4c1f-a168-bee1e7f7a70e"
    }
   },
   "outputs": [
    {
     "data": {
      "text/plain": [
       "{'bonus': 'NaN',\n",
       " 'deferral_payments': 'NaN',\n",
       " 'deferred_income': 'NaN',\n",
       " 'director_fees': 'NaN',\n",
       " 'email_address': 'NaN',\n",
       " 'exercised_stock_options': 'NaN',\n",
       " 'expenses': 'NaN',\n",
       " 'from_messages': 'NaN',\n",
       " 'from_poi_to_this_person': 'NaN',\n",
       " 'from_this_person_to_poi': 'NaN',\n",
       " 'loan_advances': 'NaN',\n",
       " 'long_term_incentive': 'NaN',\n",
       " 'other': 362096,\n",
       " 'poi': False,\n",
       " 'restricted_stock': 'NaN',\n",
       " 'restricted_stock_deferred': 'NaN',\n",
       " 'salary': 'NaN',\n",
       " 'shared_receipt_with_poi': 'NaN',\n",
       " 'to_messages': 'NaN',\n",
       " 'total_payments': 362096,\n",
       " 'total_stock_value': 'NaN'}"
      ]
     },
     "execution_count": 33,
     "metadata": {},
     "output_type": "execute_result"
    }
   ],
   "source": [
    "dataset.pop('THE TRAVEL AGENCY IN THE PARK')"
   ]
  },
  {
   "cell_type": "code",
   "execution_count": 34,
   "metadata": {},
   "outputs": [
    {
     "data": {
      "text/plain": [
       "{'bonus': 'NaN',\n",
       " 'deferral_payments': 'NaN',\n",
       " 'deferred_income': 'NaN',\n",
       " 'director_fees': 'NaN',\n",
       " 'email_address': 'NaN',\n",
       " 'exercised_stock_options': 'NaN',\n",
       " 'expenses': 'NaN',\n",
       " 'from_messages': 'NaN',\n",
       " 'from_poi_to_this_person': 'NaN',\n",
       " 'from_this_person_to_poi': 'NaN',\n",
       " 'loan_advances': 'NaN',\n",
       " 'long_term_incentive': 'NaN',\n",
       " 'other': 'NaN',\n",
       " 'poi': False,\n",
       " 'restricted_stock': 'NaN',\n",
       " 'restricted_stock_deferred': 'NaN',\n",
       " 'salary': 'NaN',\n",
       " 'shared_receipt_with_poi': 'NaN',\n",
       " 'to_messages': 'NaN',\n",
       " 'total_payments': 'NaN',\n",
       " 'total_stock_value': 'NaN'}"
      ]
     },
     "execution_count": 34,
     "metadata": {},
     "output_type": "execute_result"
    }
   ],
   "source": [
    "dataset.pop('LOCKHART EUGENE E')"
   ]
  },
  {
   "cell_type": "markdown",
   "metadata": {
    "nbpresent": {
     "id": "99de7278-e327-449a-bb38-a772aa4285d6"
    }
   },
   "source": [
    "#### Badata ( Bad Data) Count\n",
    "\n",
    "We observed the past \"TOTAL\" data point affecting our data, as an outlier. Moreover, we found less significant outliers. However, we did not inspect the quality of our enron information. That is, we verified outlier data points, but we need to check null, missing, or other poor entries."
   ]
  },
  {
   "cell_type": "code",
   "execution_count": 35,
   "metadata": {
    "collapsed": true,
    "nbpresent": {
     "id": "3f6c2b23-4cf7-40d2-914a-039bcaf9b0e7"
    }
   },
   "outputs": [],
   "source": [
    "def badata(data_dictionary):\n",
    "    feature_badata_count_dict ={'salary':0, 'to_messages':0, 'deferral_payments':0 \n",
    "                                , 'total_payments':0, 'exercised_stock_options':0, 'bonus':0 \n",
    "                                , 'restricted_stock':0, 'shared_receipt_with_poi':0, 'restricted_stock_deferred':0 \n",
    "                                , 'total_stock_value':0, 'expenses':0, 'loan_advances':0, 'from_messages':0, 'other':0,\n",
    "                                'from_this_person_to_poi':0, 'poi':0, 'director_fees':0, 'deferred_income':0, \n",
    "                                'long_term_incentive':0, 'from_poi_to_this_person':0}\n",
    "    for key, value in data_dictionary.iteritems():\n",
    "        for inner_key, inner_val in value.iteritems():\n",
    "            for ft_key, ft_val in feature_badata_count_dict.iteritems():\n",
    "                if inner_key == ft_key and math.isnan(float(inner_val)):\n",
    "                    feature_badata_count_dict[ft_key] +=1\n",
    "                                \n",
    "    return(feature_badata_count_dict)"
   ]
  },
  {
   "cell_type": "code",
   "execution_count": 36,
   "metadata": {
    "collapsed": true,
    "nbpresent": {
     "id": "5aaec269-8776-4770-8065-6c1fc941ca13"
    }
   },
   "outputs": [],
   "source": [
    "bad_data_count = badata(dataset)"
   ]
  },
  {
   "cell_type": "code",
   "execution_count": 37,
   "metadata": {
    "nbpresent": {
     "id": "c2c54e90-4bcd-4d6f-b2b9-3c608083a3d0"
    }
   },
   "outputs": [
    {
     "data": {
      "text/plain": [
       "{'bonus': 62,\n",
       " 'deferral_payments': 105,\n",
       " 'deferred_income': 95,\n",
       " 'director_fees': 127,\n",
       " 'exercised_stock_options': 42,\n",
       " 'expenses': 49,\n",
       " 'from_messages': 57,\n",
       " 'from_poi_to_this_person': 57,\n",
       " 'from_this_person_to_poi': 57,\n",
       " 'loan_advances': 140,\n",
       " 'long_term_incentive': 78,\n",
       " 'other': 52,\n",
       " 'poi': 0,\n",
       " 'restricted_stock': 34,\n",
       " 'restricted_stock_deferred': 126,\n",
       " 'salary': 49,\n",
       " 'shared_receipt_with_poi': 57,\n",
       " 'to_messages': 57,\n",
       " 'total_payments': 20,\n",
       " 'total_stock_value': 18}"
      ]
     },
     "execution_count": 37,
     "metadata": {},
     "output_type": "execute_result"
    }
   ],
   "source": [
    "bad_data_count"
   ]
  },
  {
   "cell_type": "markdown",
   "metadata": {
    "nbpresent": {
     "id": "d788239f-3227-4865-8a56-a5bfa0789ca2"
    }
   },
   "source": [
    "The above information is the count of \"NaN\" values in our dataset. We observe that \"Loan Advances\" has the highest count(142) of \"NaN\" values."
   ]
  },
  {
   "cell_type": "markdown",
   "metadata": {
    "nbpresent": {
     "id": "dea1759d-21ab-44c8-bade-6f94e8635f85"
    }
   },
   "source": [
    "#### Imputation\n",
    "\n",
    "We can choose to elminate data points for our analysis. However, we choose not to risk the action of losing data. Recall there are 146 data points. If we remove at most 142, we can analze ony 4 data points--<span style = \"color:red\">absurd.</span>\n",
    "\n",
    "We decide to fill in the \"NaN\" values with \"0.0\" value instead. I.e. We impute the missing data with the integer $0$"
   ]
  },
  {
   "cell_type": "code",
   "execution_count": 38,
   "metadata": {
    "collapsed": true,
    "nbpresent": {
     "id": "e6b4f777-b6d9-4718-8927-de3f604e8dcc"
    }
   },
   "outputs": [],
   "source": [
    "def imputeValues(dataframe_dict):\n",
    "    numerical_types_list = ['bonus','deferral_payments','deferred_income','director_fees','exercised_stock_options','expenses','loan_advances','long_term_incentive','other','restricted_stock','restricted_stock_deferred',\n",
    "                    'salary','total_payments','total_stock_value','from_this_person_to_poi']\n",
    "    text_types_list = ['from_messages','from_poi_to_this_person','from this person_to_poi','shared_receipt_with_poi','to_messages']\n",
    "    for key, values in dataframe_dict.iteritems():\n",
    "        for inner_key, inner_value in values.iteritems():\n",
    "            if inner_key in numerical_types_list or inner_key in text_types_list:\n",
    "                if math.isnan(float(inner_value)):\n",
    "                    dataframe_dict[key][inner_key] = 0\n",
    "                    #print( dataframe_dict[key][inner_key])\n",
    "            elif inner_key in text_types_list:\n",
    "                if math.isnan(float(inner_value)):\n",
    "                    if inner_key is 'poi':\n",
    "                        if inner_value is 'True':\n",
    "                            dataframe_dict[key][inner_key] = 0\n",
    "                        else:\n",
    "                            dataframe_dict[key][inner_key] = 0\n",
    "                    else:\n",
    "                        dataframe_dict[key][inner_key] = 0\n",
    "            else:\n",
    "                pass\n",
    "    return(dataframe_dict)\n",
    "                    "
   ]
  },
  {
   "cell_type": "code",
   "execution_count": 39,
   "metadata": {
    "collapsed": true,
    "nbpresent": {
     "id": "d0c1314f-6b87-43c4-af36-593ec8e6134b"
    }
   },
   "outputs": [],
   "source": [
    "dataset_cleaned = imputeValues(dataset)"
   ]
  },
  {
   "cell_type": "code",
   "execution_count": 40,
   "metadata": {
    "collapsed": true,
    "nbpresent": {
     "id": "861121cf-b751-42fd-9368-07c13282767d"
    }
   },
   "outputs": [],
   "source": [
    "bad_data_count = badata(dataset_cleaned)"
   ]
  },
  {
   "cell_type": "code",
   "execution_count": 41,
   "metadata": {
    "nbpresent": {
     "id": "25a6ae92-d95f-4fbc-be65-ab508eb5c5df"
    }
   },
   "outputs": [
    {
     "data": {
      "text/plain": [
       "{'bonus': 0,\n",
       " 'deferral_payments': 0,\n",
       " 'deferred_income': 0,\n",
       " 'director_fees': 0,\n",
       " 'exercised_stock_options': 0,\n",
       " 'expenses': 0,\n",
       " 'from_messages': 0,\n",
       " 'from_poi_to_this_person': 0,\n",
       " 'from_this_person_to_poi': 0,\n",
       " 'loan_advances': 0,\n",
       " 'long_term_incentive': 0,\n",
       " 'other': 0,\n",
       " 'poi': 0,\n",
       " 'restricted_stock': 0,\n",
       " 'restricted_stock_deferred': 0,\n",
       " 'salary': 0,\n",
       " 'shared_receipt_with_poi': 0,\n",
       " 'to_messages': 0,\n",
       " 'total_payments': 0,\n",
       " 'total_stock_value': 0}"
      ]
     },
     "execution_count": 41,
     "metadata": {},
     "output_type": "execute_result"
    }
   ],
   "source": [
    "bad_data_count"
   ]
  },
  {
   "cell_type": "markdown",
   "metadata": {
    "nbpresent": {
     "id": "c897ca38-018d-4b34-8157-b7c6adcab1b9"
    }
   },
   "source": [
    "After cleaning the data, we signficantly imputed the \"NaN\" values with $0.0$"
   ]
  },
  {
   "cell_type": "markdown",
   "metadata": {
    "nbpresent": {
     "id": "0da461db-1697-4839-9308-4872f9c8d1c4"
    }
   },
   "source": [
    "#### Added Features\n",
    "\n",
    "Recall the **Feature Selection: A Discussion** section. We observed the bivariate analysis of Salary versus Bonus was only not sufficient in predicting fraudulent, POI, Enron employees, we saw the features were not explicitily catored to answering our question.\n",
    "\n",
    "We will implement four new features to potentially indentify Eron POI. \n",
    "\n",
    "The **first two** additions are the ratio between an employee and the CEO, _Jeffrey K. Skilling_.\n",
    "\n",
    "The implementation for these four new features can lead to the following:\n",
    "\n",
    "- If the ratio in bonus between an employee and the CEO is significantly closer to the value 1, then we can suspect some type of corruption occuring.\n",
    "\n",
    "- If the ratio in salary between an employee and the CEO is significantly closer to the value 1, then we can suspect some type of corruption occuring.\n",
    "\n",
    "These features are linear transformations of the salary and bonus information presented. We factor how close ones's financial information is with respect to the CEO to determine POI relationship.\n",
    "\n",
    "The **remaining two** additional features are the inbound and outbound email ratios between a POI.\n",
    "\n",
    "\n",
    "The implementation for these four new features can lead to the following:\n",
    "\n",
    "- If the ratio $\\dfrac{\\text{Received emails from POI}}{\\text{All received Emails}}$ is closer to the value 1, we can suspect an individual is a POI.\n",
    "\n",
    "- If the ratio $\\dfrac{\\text{Sent emails from POI}}{\\text{All Sent Emails}}$ is closer to the value 1, we can suspect an individual is a POI.\n",
    "\n",
    "\n",
    "[Absolute vs Relative Difference](https://marketingexperiments.com/digital-analytics/absolute-versus-relative-difference)\n",
    "\n",
    "##### CEO Information"
   ]
  },
  {
   "cell_type": "code",
   "execution_count": 42,
   "metadata": {
    "nbpresent": {
     "id": "b9dfa56d-40cc-429d-a3a1-82178baa6955"
    }
   },
   "outputs": [
    {
     "name": "stdout",
     "output_type": "stream",
     "text": [
      "SKILLING JEFFREY K {'salary': 1111258, 'to_messages': 3627, 'deferral_payments': 0, 'total_payments': 8682716, 'exercised_stock_options': 19250000, 'bonus': 5600000, 'restricted_stock': 6843672, 'shared_receipt_with_poi': 2042, 'restricted_stock_deferred': 0, 'total_stock_value': 26093672, 'expenses': 29336, 'loan_advances': 0, 'from_messages': 108, 'other': 22122, 'from_this_person_to_poi': 30, 'poi': True, 'director_fees': 0, 'deferred_income': 0, 'long_term_incentive': 1920000, 'email_address': 'jeff.skilling@enron.com', 'from_poi_to_this_person': 88}\n"
     ]
    }
   ],
   "source": [
    "for k, v in dataset_cleaned.iteritems():\n",
    "    if k == 'SKILLING JEFFREY K':\n",
    "        print k,v"
   ]
  },
  {
   "cell_type": "code",
   "execution_count": 43,
   "metadata": {
    "collapsed": true,
    "nbpresent": {
     "id": "f6d0f067-55b6-4b5d-9c13-e631e2b681b1"
    }
   },
   "outputs": [],
   "source": [
    "ceo_info = {'SKILLING JEFFREY K':{'salary':dataset_cleaned['SKILLING JEFFREY K']['salary'],'bonus':dataset_cleaned['SKILLING JEFFREY K']['bonus']}}"
   ]
  },
  {
   "cell_type": "code",
   "execution_count": 44,
   "metadata": {
    "nbpresent": {
     "id": "0da83427-fc0c-403d-8fd0-1f0e8981335c"
    }
   },
   "outputs": [
    {
     "data": {
      "text/plain": [
       "{'SKILLING JEFFREY K': {'bonus': 5600000, 'salary': 1111258}}"
      ]
     },
     "execution_count": 44,
     "metadata": {},
     "output_type": "execute_result"
    }
   ],
   "source": [
    "ceo_info"
   ]
  },
  {
   "cell_type": "markdown",
   "metadata": {
    "nbpresent": {
     "id": "39512e2f-c88e-469a-b407-5854417ed308"
    }
   },
   "source": [
    "###### Added Features\n",
    "\n",
    "The following code identifies the CEO salary and bonus information, and thereafter adds four new features for every Enron employee.\n",
    "\n"
   ]
  },
  {
   "cell_type": "code",
   "execution_count": 45,
   "metadata": {
    "collapsed": true,
    "nbpresent": {
     "id": "2ba38367-d4d9-4c3d-af2e-ec136ccc02c0"
    }
   },
   "outputs": [],
   "source": [
    "def financial_ratio(data, financial_information):\n",
    "    ratio_info = {}\n",
    "    employee_list = []\n",
    "    data_length = len(data)\n",
    "    ceoSalary = ceo_info['SKILLING JEFFREY K'][financial_information] \n",
    "    \n",
    "\n",
    "    for key, value in data.iteritems():\n",
    "        employee_list.append(key)\n",
    "\n",
    "    for i in employee_list:\n",
    "\n",
    "        for key, values in data.iteritems():\n",
    "            \n",
    "            for inner_key, inner_value in values.iteritems():                \n",
    "                if inner_key == financial_information:\n",
    "                    ratio_value = round((float(inner_value)/ceoSalary),4)\n",
    "                    ratio_info[key] = {\"ceo_to_employee_{}_ratio\".format(financial_information): ratio_value}\n",
    "\n",
    "    ratio_info[key] = {\"ceo_to_employee_{}_ratio\".format(financial_information): ratio_value}\n",
    "                    \n",
    "\n",
    "    for key, value in data.iteritems():\n",
    "        value[ratio_info[key].keys()[0]] = ratio_info[key][\"ceo_to_employee_{}_ratio\".format(financial_information)]\n",
    "\n",
    "    return(data)\n",
    "\n",
    "#[](https://stackoverflow.com/questions/2958684/python-division)"
   ]
  },
  {
   "cell_type": "code",
   "execution_count": 46,
   "metadata": {
    "collapsed": true
   },
   "outputs": [],
   "source": [
    "def email_proportion(data, Sent_or_Received_email_interaction):\n",
    "    assert Sent_or_Received_email_interaction in [\"Sent\",\"Received\"]\n",
    "    proportion_info = {}\n",
    "    ratio_info = {}\n",
    "    employee_list = []\n",
    "    data_length = len(data)  \n",
    "    \n",
    "    if Sent_or_Received_email_interaction == \"Sent\":\n",
    "        #Get a reference list of employees and values\n",
    "        for key, value in data.iteritems():\n",
    "            employee_list.append(key)\n",
    "\n",
    "        for i in employee_list:\n",
    "            #Names and values\n",
    "            for key, values in data.iteritems():\n",
    "\n",
    "                ratio_value = 0\n",
    "                if values[\"to_messages\"]==0:\n",
    "                    ratio_value = 0\n",
    "                else:\n",
    "                    ratio_value = round((float(values[\"from_this_person_to_poi\"])/values[\"to_messages\"]),4)\n",
    "                    \n",
    "                ratio_info[key] = {\"ratio_of_sent_messages_to_poi\": ratio_value}\n",
    "        ratio_info[key] = {\"ratio_of_sent_messages_to_poi\": ratio_value}\n",
    "\n",
    "\n",
    "        for key, value in data.iteritems():\n",
    "            value[ratio_info[key].keys()[0]] = ratio_info[key][\"ratio_of_sent_messages_to_poi\"]\n",
    "            \n",
    "    elif Sent_or_Received_email_interaction == \"Received\":\n",
    "        #Get a reference list of employees and values\n",
    "        for key, value in data.iteritems():\n",
    "            employee_list.append(key)\n",
    "\n",
    "        for i in employee_list:\n",
    "            #Names and values\n",
    "            for key, values in data.iteritems():\n",
    "\n",
    "                ratio_value = 0\n",
    "                if values[\"from_messages\"]==0:\n",
    "                    ratio_value = 0\n",
    "                else:\n",
    "                    ratio_value = round((float(values[\"from_poi_to_this_person\"])/values[\"from_messages\"]),4)\n",
    "                ratio_info[key] = {\"ratio_of_received_messages_to_poi\": ratio_value}\n",
    "        ratio_info[key] = {\"ratio_of_received_messages_to_poi\": ratio_value}\n",
    "\n",
    "\n",
    "        for key, value in data.iteritems():\n",
    "            value[ratio_info[key].keys()[0]] = ratio_info[key][\"ratio_of_received_messages_to_poi\"]\n",
    "\n",
    "    return(data)\n"
   ]
  },
  {
   "cell_type": "code",
   "execution_count": 47,
   "metadata": {
    "collapsed": true,
    "nbpresent": {
     "id": "7350d4a6-fb43-4164-a372-21e1faa36ca1"
    }
   },
   "outputs": [],
   "source": [
    "dataset_v2 = financial_ratio(dataset_cleaned,'salary')"
   ]
  },
  {
   "cell_type": "markdown",
   "metadata": {
    "nbpresent": {
     "id": "6501d447-2d23-49f7-a96b-0c57b9dc444e"
    }
   },
   "source": [
    "We add the \"ceo_to_employee_salary_difference\" feature to our data dictionary, the salary difference between an employee and the CEO"
   ]
  },
  {
   "cell_type": "code",
   "execution_count": 48,
   "metadata": {
    "collapsed": true,
    "nbpresent": {
     "id": "2b7be28b-2ad5-4cf4-bd40-1900729c5605"
    }
   },
   "outputs": [],
   "source": [
    "dataset_v3 = financial_ratio(dataset_v2,'bonus')"
   ]
  },
  {
   "cell_type": "markdown",
   "metadata": {},
   "source": [
    "We add the \"ceo_to_employee_bonus_difference\" feature to our data dictionary, the bonus difference between an employee and the CEO"
   ]
  },
  {
   "cell_type": "code",
   "execution_count": 49,
   "metadata": {
    "collapsed": true
   },
   "outputs": [],
   "source": [
    "dataset_final_v4 = email_proportion(dataset_v3,'Received')"
   ]
  },
  {
   "cell_type": "markdown",
   "metadata": {},
   "source": [
    "We add the \"ratio_of_sent_messages_to_poi\" feature to our data dictionary, the proportion of messages received from a POI employee to that of all received messages"
   ]
  },
  {
   "cell_type": "code",
   "execution_count": 50,
   "metadata": {
    "collapsed": true
   },
   "outputs": [],
   "source": [
    "dataset_final_version = email_proportion(dataset_final_v4,'Sent')"
   ]
  },
  {
   "cell_type": "markdown",
   "metadata": {},
   "source": [
    "We add the \"ratio_of_sent_messages_to_poi\" feature to our data dictionary, the proportion of messages sent to a POI employee to that of all sent out messages\n",
    "\n",
    "**The following is a confirmation** that we added these four new features to entry 24 of our email dataset\n",
    "\n",
    "Ratio of Received Messages to POI"
   ]
  },
  {
   "cell_type": "code",
   "execution_count": 51,
   "metadata": {},
   "outputs": [
    {
     "data": {
      "text/plain": [
       "0.0351"
      ]
     },
     "execution_count": 51,
     "metadata": {},
     "output_type": "execute_result"
    }
   ],
   "source": [
    "dataset_final_version.values()[25]['ratio_of_received_messages_to_poi']"
   ]
  },
  {
   "cell_type": "markdown",
   "metadata": {},
   "source": [
    "Ratio of Sent Messages to POI"
   ]
  },
  {
   "cell_type": "code",
   "execution_count": 52,
   "metadata": {},
   "outputs": [
    {
     "data": {
      "text/plain": [
       "0.0258"
      ]
     },
     "execution_count": 52,
     "metadata": {},
     "output_type": "execute_result"
    }
   ],
   "source": [
    "dataset_final_version.values()[25]['ratio_of_sent_messages_to_poi']"
   ]
  },
  {
   "cell_type": "markdown",
   "metadata": {},
   "source": [
    "CEO to Employee Bonus Ratio"
   ]
  },
  {
   "cell_type": "code",
   "execution_count": 53,
   "metadata": {},
   "outputs": [
    {
     "data": {
      "text/plain": [
       "0.3571"
      ]
     },
     "execution_count": 53,
     "metadata": {},
     "output_type": "execute_result"
    }
   ],
   "source": [
    "dataset_final_version.values()[25]['ceo_to_employee_bonus_ratio']"
   ]
  },
  {
   "cell_type": "markdown",
   "metadata": {},
   "source": [
    "CEO to Employee Salary Ratio"
   ]
  },
  {
   "cell_type": "code",
   "execution_count": 54,
   "metadata": {},
   "outputs": [
    {
     "data": {
      "text/plain": [
       "0.2737"
      ]
     },
     "execution_count": 54,
     "metadata": {},
     "output_type": "execute_result"
    }
   ],
   "source": [
    "dataset_final_version.values()[25][ 'ceo_to_employee_salary_ratio']"
   ]
  },
  {
   "cell_type": "markdown",
   "metadata": {
    "nbpresent": {
     "id": "7a3237b5-7b7d-4b3d-aa50-fe1f8828ee85"
    }
   },
   "source": [
    "\n",
    "___"
   ]
  },
  {
   "cell_type": "markdown",
   "metadata": {
    "nbpresent": {
     "id": "4cc886a7-f091-42f6-bffa-09afbdbb2c53"
    }
   },
   "source": [
    "### Analysis \n",
    "\n",
    "![http://blog.presentationload.com/optimize-profit-margin-using-value-chain-analysis/](../../Images/analysis.jpg)\n",
    "\n",
    "\n",
    "\n",
    "We select several numerical features. Moreoever, we factor in the four engineered features discussed in the previous section.\n",
    "\n",
    "We then implement a few algorithms to decide on what top three to four features we should implement for predicting people of interest in the Enron email scandal.\n",
    "\n",
    "I.e. we zoom out to consider the following features, then zoom in to precise feature selections to predict Enron fraudsters.\n",
    "\n",
    "1. POI\n",
    "\n",
    "2. CEO to Employee Bonus Ratio\n",
    "\n",
    "3. Total Payments\n",
    "\n",
    "4. Exercised Stock Options\n",
    "\n",
    "5. CEO to Employee Salary Ratio\n",
    "\n",
    "6. Restricted Stock\n",
    "\n",
    "7. Shared Receipt with POI\n",
    "\n",
    "8. FROM POI to This Person\n",
    "\n",
    "9. From Messages\n",
    "\n",
    "10. From this Person to POI\n",
    "\n",
    "11. Ratio of Sent Messages to POI\n",
    "\n",
    "12. Ratio of Received Messages to POI\n",
    "\n",
    "13. Deferral Payments\n",
    "\n",
    "14. Loan Advances\n",
    "\n",
    "15. Restricted Stock Deferred\n",
    "                 \n",
    "16. Deferred Income\n",
    "\n",
    "17. Expenses\n",
    "\n",
    "18. Other\n",
    "\n",
    "19. Long Term Incentive\n",
    "\n",
    "20. Director Fees\n",
    "\n",
    "> <a style = \"color:red\">Note:</a> **We do not** implement Salary and Bonus into our feature selection process due to the multicollinearity association to CEO to Employee Salary Ratio and CEO to Employee Bonus Ratio, respectively. Moreover, \"From Poi to this Person,\" \"From Messages\", and \"From this Person to Poi\" are collinear with ratio of interactions with POI\n",
    "\n",
    "> **Cutoff Criteria:** We select the top features of each algorithm implementation with a cutoff score being a a 5 digit difference between two sequential features (e.g. Total expenses being .10 and the next being 0.05) [SelectK best case: 5.0+ digit difference.]. \n",
    "\n",
    "> Thereafter, we consider selecting the appropriate features for our final portion of our analysis from the score difference between the first and fifth ranked feature.\n",
    "\n",
    "\n",
    "\n",
    "#### Import Clean Enron Data\n",
    "\n",
    "We import the cleaned Enron dataset, and proceed with a full evaluation."
   ]
  },
  {
   "cell_type": "code",
   "execution_count": 55,
   "metadata": {
    "collapsed": true,
    "nbpresent": {
     "id": "668f5dac-c07c-4bc3-afa9-cafa26fbcb66"
    }
   },
   "outputs": [],
   "source": [
    "#Selected features\n",
    "features_ds_2 = ['poi', 'ceo_to_employee_bonus_ratio', 'total_payments','exercised_stock_options',\n",
    "                 'ceo_to_employee_salary_ratio','restricted_stock', 'shared_receipt_with_poi',\n",
    "                 'ratio_of_sent_messages_to_poi','ratio_of_received_messages_to_poi',\n",
    "                 'deferral_payments','loan_advances','restricted_stock_deferred','total_stock_value',\n",
    "                 'deferred_income','expenses','other','long_term_incentive','director_fees']\n",
    "#Format feature information for data purity \n",
    "enron_ds2 = featureFormat(dataset_final_version,features_ds_2)"
   ]
  },
  {
   "cell_type": "code",
   "execution_count": 56,
   "metadata": {
    "nbpresent": {
     "id": "3fefa693-f327-4bf6-8cd2-fa4489b31515"
    }
   },
   "outputs": [
    {
     "data": {
      "text/plain": [
       "array([[  0.00000000e+00,   1.07100000e-01,   1.06182700e+06,\n",
       "          0.00000000e+00,   3.29200000e-01,   5.85062000e+05,\n",
       "          7.02000000e+02,   1.20000000e-03,   1.31030000e+00,\n",
       "          0.00000000e+00,   0.00000000e+00,   0.00000000e+00,\n",
       "          5.85062000e+05,   0.00000000e+00,   9.42990000e+04,\n",
       "          1.74000000e+03,   0.00000000e+00,   0.00000000e+00],\n",
       "       [  0.00000000e+00,   2.14300000e-01,   5.63434300e+06,\n",
       "          6.68054400e+06,   2.40400000e-01,   3.94271400e+06,\n",
       "          0.00000000e+00,   0.00000000e+00,   0.00000000e+00,\n",
       "          1.29573800e+06,   0.00000000e+00,   0.00000000e+00,\n",
       "          1.06232580e+07,  -1.38605500e+06,   1.12000000e+04,\n",
       "          2.66030300e+06,   1.58605500e+06,   0.00000000e+00]])"
      ]
     },
     "execution_count": 56,
     "metadata": {},
     "output_type": "execute_result"
    }
   ],
   "source": [
    "enron_ds2[:2]"
   ]
  },
  {
   "cell_type": "markdown",
   "metadata": {},
   "source": [
    "#### Feature Selection\n",
    "\n",
    "We implement two algorithms for our feature selection process. Thereafter, we implement one more algorithm for both feature selection, and observing validity of its model architecture in the following section. \n",
    "\n",
    "From the feature ranking results of these implementations, we narrow down three to four features from a wide selection of features for model training and validation."
   ]
  },
  {
   "cell_type": "code",
   "execution_count": 58,
   "metadata": {
    "collapsed": true,
    "nbpresent": {
     "id": "ecc7cd58-cfba-4b4b-9266-c5429d739f25"
    }
   },
   "outputs": [],
   "source": [
    "#Split data\n",
    "labels, features = targetFeatureSplit(enron_ds2)"
   ]
  },
  {
   "cell_type": "markdown",
   "metadata": {
    "nbpresent": {
     "id": "f2182749-f6de-483d-a248-153b213ef0cb"
    }
   },
   "source": [
    "We let partition the labels and features dataset by 30%, for testing purposes. \n",
    "\n",
    "We utilize the remaining 70% to train our model."
   ]
  },
  {
   "cell_type": "code",
   "execution_count": 59,
   "metadata": {
    "collapsed": true
   },
   "outputs": [],
   "source": [
    "#Randomly select observations with the Stratified Shuffle split algorithm\n",
    "sss = cross_validation.StratifiedShuffleSplit(labels, n_iter=1000,test_size = 0.30, random_state=11)\n",
    "\n",
    "# Partition data for evaluation\n",
    "for i_train, i_test in sss:\n",
    "    features_train, features_test = [features[i] for i in i_train], [features[i] for i in i_test]\n",
    "    labels_train, labels_test = [labels[i] for i in i_train], [labels[i] for i in i_test]\n"
   ]
  },
  {
   "cell_type": "markdown",
   "metadata": {
    "nbpresent": {
     "id": "204b5ca4-1b05-4b05-8c91-b7b96d54317d"
    }
   },
   "source": [
    "##### Importance of Top Features with SelectKBest\n",
    "\n",
    "We implement the [SelectKBest](http://scikit-learn.org/stable/modules/generated/sklearn.feature_selection.SelectKBest.html) method for selecting features according to the **k** highest scores. These k factors will be one of our few considerations for feature selection.\n",
    "\n",
    "The following scenario is k='all' pre-selected cases. \n",
    "\n",
    "> Added: Per correction/comment, 'k' looks at the features after score computation and keeps the top features for next fitting process."
   ]
  },
  {
   "cell_type": "code",
   "execution_count": 60,
   "metadata": {
    "collapsed": true,
    "nbpresent": {
     "id": "6cef7190-92be-4c16-a573-c0bd371b64f1"
    }
   },
   "outputs": [],
   "source": [
    "#Start timer\n",
    "t0 = time.time()\n",
    "\n",
    "#Fitting training data with SelectKBest classifier\n",
    "select = SelectKBest( k='all').fit(features_train,labels_train)"
   ]
  },
  {
   "cell_type": "code",
   "execution_count": 61,
   "metadata": {
    "nbpresent": {
     "id": "db63a1ea-14bb-4164-b729-092c5a206df6"
    }
   },
   "outputs": [
    {
     "name": "stdout",
     "output_type": "stream",
     "text": [
      "0.111 seconds\n",
      "\n",
      "[('restricted_stock_deferred', 0.68269553830311047),\n",
      " ('deferral_payments', 0.72540432049800641),\n",
      " ('director_fees', 1.2708940111154361),\n",
      " ('deferred_income', 2.3749825314864901),\n",
      " ('ratio_of_received_messages_to_poi', 2.7834819846115084),\n",
      " ('expenses', 3.1171958812121265),\n",
      " ('restricted_stock', 3.8709241235414278),\n",
      " ('other', 4.5178575832625096),\n",
      " ('shared_receipt_with_poi', 5.6563092789776404),\n",
      " ('long_term_incentive', 6.7193277318638334),\n",
      " ('loan_advances', 7.0379327981934612),\n",
      " ('ratio_of_sent_messages_to_poi', 7.451462176652365),\n",
      " ('total_payments', 7.7796020342870165),\n",
      " ('ceo_to_employee_bonus_ratio', 8.7944390673562474),\n",
      " ('ceo_to_employee_salary_ratio', 9.5650197789125269),\n",
      " ('total_stock_value', 10.517318476121625),\n",
      " ('exercised_stock_options', 10.765336743969712)]\n"
     ]
    }
   ],
   "source": [
    "#Ranking scores\n",
    "scores = select.scores_\n",
    "\n",
    "#Create a dictionary of independent variables with their respective scores\n",
    "feature_scores_dict = {}\n",
    "for i in range(len(features_ds_2)-1):\n",
    "    feature_scores_dict[features_ds_2[i+1]] = scores[i]\n",
    "feature_scored_dict_sorted = sorted(feature_scores_dict.items(), key=lambda x:x[1])\n",
    "\n",
    "print round(time.time()-t0,3),\"seconds\"\n",
    "\n",
    "print\n",
    "pprint.pprint(feature_scored_dict_sorted)\n"
   ]
  },
  {
   "cell_type": "markdown",
   "metadata": {
    "nbpresent": {
     "id": "ec727684-aed0-469f-82c3-99e1327cbc36"
    }
   },
   "source": [
    "For ranking the importance of all recommended features, The most useful features are:\n",
    "\n",
    "1. Exercised Stock Options\n",
    "\n",
    "2. Total Stock Value\n",
    "\n",
    "3. CEO To Employee Salary Ratio\n",
    "\n",
    "4. CEO To Employee Bonus Ratio\n",
    "\n",
    "5. Total Payments\n",
    "\n",
    "6. Ratio of Sent Messages to POI\n",
    "\n",
    "7. Loan Advances\n",
    "\n",
    "Therafter, we observe our cutoff of a five point difference at feature rank #7, from the top feature."
   ]
  },
  {
   "cell_type": "markdown",
   "metadata": {
    "nbpresent": {
     "id": "b31e5423-a964-4a88-b083-38a0fe33e281"
    }
   },
   "source": [
    "Our findings within the SelectKBest implementation had Exercised Stock Options as our top feature recommendation.\n",
    "\n",
    "Moreover, we observe that CEO to Employee Bonus Ratio and CEO to Employee Salary Ratio ranked within top 5 features for our model selection, as seen below:\n",
    "\n",
    "1. Exercised Stock Options\n",
    "\n",
    "2. Total Stock Value\n",
    "\n",
    "3. CEO To Employee Salary Ratio\n",
    "\n",
    "4. CEO To Employee Bonus Ratio\n",
    "\n",
    "5. Total Payments\n",
    "\n",
    "At the core of our questions, these engineered variables from email interactions do indeed answer the question of finding peolpe of interest from interaction of POI.\n",
    "\n",
    "Though we had a performance of 0.214 seconds, the SKBest method is one of the few univariate feature selection proccesses within SKlearn. SelectKBest goes by selecting the best features based on univariate statistical tests, scores based off ANOVA. \n",
    "\n",
    "\n",
    "The following is an attempt at Extra Trees Implementation for attaining the top k recommended features.\n",
    "\n",
    "##### Importance of Top Features with Extra Trees Classifier"
   ]
  },
  {
   "cell_type": "code",
   "execution_count": 62,
   "metadata": {
    "nbpresent": {
     "id": "9de2813b-9039-4f0c-8e39-23ed45fe1f62"
    }
   },
   "outputs": [
    {
     "data": {
      "text/plain": [
       "array([ 0.08694814,  0.09484693,  0.11895763,  0.033723  ,  0.03184003,\n",
       "        0.0999298 ,  0.0891588 ,  0.072334  ,  0.03870121,  0.01853307,\n",
       "        0.        ,  0.0510468 ,  0.03540347,  0.06544414,  0.0894602 ,\n",
       "        0.07235274,  0.00132007])"
      ]
     },
     "execution_count": 62,
     "metadata": {},
     "output_type": "execute_result"
    }
   ],
   "source": [
    "from sklearn.ensemble import ExtraTreesClassifier\n",
    "\n",
    "clf = ExtraTreesClassifier()\n",
    "clf_fit = clf.fit(features_train, labels_train)\n",
    "important_feat = list(clf_fit.feature_importances_)\n",
    "clf.feature_importances_  \n"
   ]
  },
  {
   "cell_type": "code",
   "execution_count": 63,
   "metadata": {
    "nbpresent": {
     "id": "b6ff850d-432d-42f6-ac6f-ec692a291260"
    }
   },
   "outputs": [
    {
     "name": "stdout",
     "output_type": "stream",
     "text": [
      "[('restricted_stock_deferred', 0.0),\n",
      " ('director_fees', 0.0013200655683690543),\n",
      " ('loan_advances', 0.018533066327773649),\n",
      " ('restricted_stock', 0.031840030161243316),\n",
      " ('ceo_to_employee_salary_ratio', 0.033722996441821522),\n",
      " ('deferred_income', 0.03540346604742195),\n",
      " ('deferral_payments', 0.038701206617248601),\n",
      " ('total_stock_value', 0.051046798849218013),\n",
      " ('expenses', 0.06544413687815033),\n",
      " ('ratio_of_received_messages_to_poi', 0.072333998120020532),\n",
      " ('long_term_incentive', 0.072352738396785021),\n",
      " ('ceo_to_employee_bonus_ratio', 0.086948143713929296),\n",
      " ('ratio_of_sent_messages_to_poi', 0.089158796747942914),\n",
      " ('other', 0.089460196075168488),\n",
      " ('total_payments', 0.094846934597694457),\n",
      " ('shared_receipt_with_poi', 0.099929795859655932),\n",
      " ('exercised_stock_options', 0.11895762959755693)]\n"
     ]
    }
   ],
   "source": [
    "feature_importance_dict = {}\n",
    "for i in range(0,len(features_ds_2)-1):\n",
    "    feature_importance_dict[features_ds_2[i+1]] = important_feat[i]\n",
    "    \n",
    "feature_importance_dict_sorted = sorted(feature_importance_dict.items(), key=lambda x:x[1])\n",
    "\n",
    "pprint.pprint(feature_importance_dict_sorted)\n"
   ]
  },
  {
   "cell_type": "markdown",
   "metadata": {},
   "source": [
    "For ranking the importance of all recommended features, The most useful features are:\n",
    "\n",
    "1. Exercised Stock Options\n",
    "\n",
    "2. Shared Receipt with POI\n",
    "\n",
    "3. Total Payments\n",
    "\n",
    "4. Other\n",
    "\n",
    "5. Ratio of Sent Messages to POI\n",
    "\n",
    "6. CEO to Employee Bonus Ratio\n",
    "\n",
    "7. Long Term Incentive\n",
    "\n",
    "8. and more\n",
    "\n",
    "Thereafter, we proceed to follow our cutoff score of a ranking difference of an estimated 0.05 after feature rank #8.\n",
    "\n",
    "Our findings within the Extra Trees implementation had Exercised Stock Options  as our top feature recommendation.\n",
    "\n",
    "Moreover, we observe that CEO to Employee Bonus Ratio and CEO ranked within top 10 features for our model selection.\n",
    "\n",
    "At the core of our questions, these engineered variables from email interactions do indeed answer the question of finding peopel of interest from interaction of POI.\n",
    "\n",
    "The Extra Trees classifier is a variant of the popular Random Forest algorithm. However, each step of the Extra Trees implementation has random decision boundaries selected, rather than the best one. Moreover, Extra Trees classifier is great for our numerical features!\n",
    "\n",
    "\n",
    "With the implementation of SelectKBest and Extra Trees Classifer, we carry on with two additional algorithms. These algorithms will not only provide a recommended list of features for determining POI, but we evaluate the models performance."
   ]
  },
  {
   "cell_type": "markdown",
   "metadata": {
    "nbpresent": {
     "id": "236d3c52-6ccc-44a5-b587-6eda63310079"
    }
   },
   "source": [
    "### Continued Feature Selection w/Model Performance Calibration\n",
    "\n",
    "We continue our feature selection conversations. However, we verify model accuracy, precision, and recall scores for another algorithm--Decision Tree Algorithm\n",
    "\n",
    "____\n",
    "\n",
    "<a style =\"color:red\">Interlude</a> \n",
    "\n",
    "<u>Quick Definitions</u>"
   ]
  },
  {
   "cell_type": "markdown",
   "metadata": {
    "nbpresent": {
     "id": "ae23667d-a0e6-4877-9825-45f966f6b1a0"
    }
   },
   "source": [
    "**Model Accuracy **\n",
    "\n",
    "When TP < FP, then accuracy will always increase when we change a classification rule to always output “negative” category. Conversely, when TN < FN, the same will happen when we change our rule to always output “positive\n",
    "> Note: This following section also provides the Precision, Recall, and F1-Score related to our implemented models. \n",
    "\n",
    ">In our case, \n",
    "\n",
    ">**Precision** (TP)/(TP+FP) cares about whether the positive examples predicted by our model were correct. In our case, what's the % Enron employees classified as POI correctly out of all classified Enron Employees classified as POI.\n",
    "\n",
    ">**Recall** (TP)/(TP+FN) cares more on whether we have predicted all positive examples in the data. In our case, what is the percent of predictions were correctly identified POI, for all actual POI.\n",
    "\n",
    "\n",
    ">where TP:=True Postive, FN:=False Negative, FP:= False Postives, TN:= True Negatives, as seen below\n",
    "\n",
    "\n",
    "\n",
    "| True State/Diagnosis | NOT POI | POI |\n",
    "|---------------------:|---------|-----|\n",
    "|              NOT POI | TN      | FP  |\n",
    "|                  POI | FN      | TP  |\n",
    "\n",
    "\n",
    "<a style =\"color:red\">End of Interlude</a>\n",
    "___\n"
   ]
  },
  {
   "cell_type": "markdown",
   "metadata": {
    "nbpresent": {
     "id": "9d9527f3-e56e-4d99-94ff-7a3e4fab146a"
    }
   },
   "source": [
    "##### Decision Tree Algorithm\n",
    "\n",
    "We utilize the Decision Tree algorithm using the \"enron_ds2\" (clean dataset) to evaluate POI forecasting for some given $k$ features."
   ]
  },
  {
   "cell_type": "code",
   "execution_count": 64,
   "metadata": {
    "nbpresent": {
     "id": "310fdc92-172a-47a7-9698-696ceaecb992"
    }
   },
   "outputs": [
    {
     "name": "stdout",
     "output_type": "stream",
     "text": [
      "Score: 0.744186046512\n",
      "Algorithm Performance in  0.001 seconds\n",
      "\n",
      "Rankings Importance:\n",
      "\n",
      "[('loan_advances', 0.0),\n",
      " ('restricted_stock_deferred', 0.0),\n",
      " ('deferral_payments', 0.0),\n",
      " ('ratio_of_received_messages_to_poi', 0.0),\n",
      " ('shared_receipt_with_poi', 0.0),\n",
      " ('exercised_stock_options', 0.0),\n",
      " ('other', 0.0),\n",
      " ('director_fees', 0.0),\n",
      " ('long_term_incentive', 0.0),\n",
      " ('deferred_income', 0.058944886531093435),\n",
      " ('ceo_to_employee_salary_ratio', 0.066982825603515275),\n",
      " ('restricted_stock', 0.073681108163866804),\n",
      " ('total_payments', 0.076573683229657658),\n",
      " ('ratio_of_sent_messages_to_poi', 0.10125570470398072),\n",
      " ('expenses', 0.10525872594838113),\n",
      " ('total_stock_value', 0.14384655799914459),\n",
      " ('ceo_to_employee_bonus_ratio', 0.37345650782036049)]\n",
      "\n",
      "Classification Report\n",
      "             precision    recall  f1-score   support\n",
      "\n",
      "  Not a POI       0.91      0.79      0.85        38\n",
      "        POI       0.20      0.40      0.27         5\n",
      "\n",
      "avg / total       0.83      0.74      0.78        43\n",
      "\n"
     ]
    }
   ],
   "source": [
    "#Decision Tree implementation with default parameters\n",
    "clf_dt = DecisionTreeClassifier()\n",
    "clf_dt.fit(features_train,labels_train)\n",
    "\n",
    "#Score of classifier and predict labels for testing\n",
    "score = clf_dt.score(features_test,labels_test)\n",
    "pred= clf_dt.predict(features_test)\n",
    "\n",
    "#Start timer\n",
    "t0 = time.time()\n",
    "\n",
    "\n",
    "print'Score:', score\n",
    "\n",
    "#Get important values and make a sorted list\n",
    "importance = clf_dt.feature_importances_\n",
    "feature_importances_dict = {}\n",
    "for i in range(len(features_ds_2)-1):\n",
    "    feature_importances_dict[features_ds_2[i+1]] = importance[i]\n",
    "feature_importances_dict_sorted = sorted(feature_importances_dict.items(), key=lambda x:x[1])\n",
    "\n",
    "print \"Algorithm Performance in \",round(time.time()-t0,3),\"seconds\"\n",
    "\n",
    "print \n",
    "print \"Rankings Importance:\"\n",
    "print\n",
    "\n",
    "pprint.pprint(feature_importances_dict_sorted) \n",
    "print \n",
    "\n",
    "\n",
    "#Print Report\n",
    "targ_names =['Not a POI','POI']\n",
    "classif_report_dt = classification_report(labels_test,pred,target_names=targ_names)\n",
    "print \"Classification Report\\n\",classif_report_dt"
   ]
  },
  {
   "cell_type": "markdown",
   "metadata": {
    "nbpresent": {
     "id": "18b2b9de-db96-4a15-90f6-50e907d55001"
    }
   },
   "source": [
    "For ranking the importance of all recommended features, The top important features are:\n",
    "\n",
    "1. Total Stock Value\n",
    "\n",
    "2. CEO to Employee Bonus Ratio\n",
    "\n",
    "3. Expenses\n",
    "\n",
    "Our top features only have one commmon feature in common from the results of our other features. This feature is CEO to Employee Bonus Ratio.\n",
    "\n",
    "Moreover, this scenario has a precision of 0.20 and recall of 0.40 for determining POI. This is partially good to see, however we should observe that this, and the past outcomes, is not optimal for model implementation. I.e.,Notice that we implemented the Decision Tree algorithm with default parameters, and previous algorithms as well. This consideration occurs because we do not know if our feature selection process was optimal in selection. \n",
    "\n",
    "\n",
    "We implement this procedure through **hypertuning**, alongside **cross validation**."
   ]
  },
  {
   "cell_type": "markdown",
   "metadata": {
    "nbpresent": {
     "id": "bfef6e2e-9d8e-4cd3-8604-0b53eb7d45d9"
    }
   },
   "source": [
    "**Comments**\n",
    "\n",
    "In the \"Model Metrics and Ranking\" source, we observe the folowing:\n",
    "\n",
    "\n",
    ">\"Calibration dramatically improves the performance\n",
    "of boosted trees, SVMs, boosted stumps, and\n",
    "Naive Bayes, and provides a small, but noticeable improvement\n",
    "for random forests. Neural nets, bagged\n",
    "trees, memory based methods, and logistic regression\n",
    "are not significantly improved by calibration.\n",
    "With excellent performance on all eight metrics, calibrated\n",
    "boosted trees were the best learning algorithm\n",
    "overall. \n",
    "\n",
    ">Random forests are close second, followed by\n",
    "uncalibrated bagged trees, calibrated SVMs, and uncalibrated\n",
    "neural nets. The models that performed\n",
    "poorest were naive bayes, logistic regression, decision\n",
    "trees, and boosted stumps. Although some methods\n",
    "clearly perform better or worse than other methods\n",
    "on average, there is significant variability across the\n",
    "problems and metrics. Even the best models sometimes\n",
    "perform poorly, and models with poor average.\"\n"
   ]
  },
  {
   "cell_type": "markdown",
   "metadata": {
    "nbpresent": {
     "id": "bb0cc5a3-6a29-4554-85c4-41ffa4373df4"
    }
   },
   "source": [
    "\n",
    "#### Model Accuracies with Hypertuning\n",
    "\n",
    "Hyperparameter optimizing is the problem of choosing a set of optimal hyperparameters for a learning algorithm. We ensure the model does not, for example, overfit its data by (over)tuning. Moreover, the opportunity of better model performance is more likely.\n",
    "\n",
    "We implement cross validation and testing from optimally identifying model parameters within the Gaussian Naive Baye's and Decision Tree implementation.\n",
    "\n",
    "To split/sparse data, we implement Stratified Shuffle Split method to obtain train/test split data. We fine tune the sampling size of our training data, and find some outcome of accuracy from the said change.\n",
    "\n",
    "###### Selected Features from Feature Selection Process and Data Partioning \n",
    "\n",
    "The top re-occuring features to select from where, in frequency:\n",
    "\n",
    "1. CEO To Employee Bonus Ratio\n",
    "\n",
    "2. CEO To Employee Salary Ratio\n",
    "\n",
    "3. Ratio of Sent Messages to POI\n",
    "\n",
    "4. Exercised Stock Options\n",
    "\n",
    "in which CEO To Employee Bonus Ratio, Ratio of Sent Messages to POI, and CEO To Employee Salary Ratio were a part of our engineered features.\n",
    "\n",
    "We selected  Exercised Stock Options, CEO To Employee Bonus Ratio, Ratio of Sent Messages to POI, and CEO To Employee Salary Ratio as our features to implement in this hypertuning process. "
   ]
  },
  {
   "cell_type": "code",
   "execution_count": 65,
   "metadata": {
    "collapsed": true,
    "nbpresent": {
     "id": "505eec6b-8299-43c6-8060-f705cc38f438"
    }
   },
   "outputs": [],
   "source": [
    "### features_list is a list of strings\n",
    "\n",
    "features_list = ['poi','ratio_of_received_messages_to_poi', 'ceo_to_employee_bonus_ratio','ratio_of_sent_messages_to_poi'\n",
    "                 ,'ceo_to_employee_salary_ratio','exercised_stock_options']\n",
    "\n",
    "\n",
    "### store to my_dataset for easy export below\n",
    "ceo_difference_dataset = dataset_final_version\n",
    "\n",
    "\n",
    "data = featureFormat(ceo_difference_dataset, features_list)\n",
    "\n",
    "\n",
    "### split into labels and features \n",
    "labels, features = targetFeatureSplit(data)\n",
    "\n",
    "### deploying data partioning\n",
    "#from sklearn import cross_validation\n",
    "#features_train, features_test, labels_train, labels_test = cross_validation.train_test_split(features, labels, test_size=0.30, random_state=42, stratify = labels)\n"
   ]
  },
  {
   "cell_type": "markdown",
   "metadata": {
    "nbpresent": {
     "id": "3741832a-5e52-4201-8783-57b5c4daf99e"
    }
   },
   "source": [
    "##### Stratified Shuffle Split Implementation"
   ]
  },
  {
   "cell_type": "code",
   "execution_count": 66,
   "metadata": {
    "collapsed": true,
    "nbpresent": {
     "id": "847d738d-e9cf-4f8c-b954-40f93f1c4fc7"
    }
   },
   "outputs": [],
   "source": [
    "#SSS implemenation for partitioning training and testing data\n",
    "sss = cross_validation.StratifiedShuffleSplit(labels, n_iter=1000,test_size = 0.30, random_state=11)\n",
    "\n",
    "\n",
    "for i_train, i_test in sss:\n",
    "    features_train, features_test = [features[i] for i in i_train], [features[i] for i in i_test]\n",
    "    labels_train, labels_test = [labels[i] for i in i_train], [labels[i] for i in i_test]"
   ]
  },
  {
   "cell_type": "markdown",
   "metadata": {},
   "source": [
    "##### Naive Bayes Algorithm with Manual Tuning Cases\n",
    "\n",
    "Naive Bayes is a classification technique based on Bayes’ Theorem with an assumption of independence among predictors. More information can be found in my [Machine Learning Basics Documenation](https://github.com/CloudChaoszero/General-Statistics-and-ML-Concepts/blob/master/ML/Machine_Learning_Notes.ipynb).\n",
    "\n",
    "The following are several manual tuning cases for the Naive Bayes implementation. In each scenario, we modify the following classifier's parameter:\n",
    "\n",
    "1. Prior\n",
    "    \n",
    "    > Note: Priors are the probabilities of the classes. If specified the priors are not adjusted according to the data."
   ]
  },
  {
   "cell_type": "code",
   "execution_count": 67,
   "metadata": {
    "collapsed": true
   },
   "outputs": [],
   "source": [
    "from sklearn.naive_bayes import GaussianNB\n",
    "\n",
    "def GNB_hypertuning(priors):\n",
    "    #Modified Parameters\n",
    "    \n",
    "    #Start Timer\n",
    "    t0 = time.time()\n",
    "    clf = GaussianNB(priors)\n",
    "    clf.fit(features_train, labels_train)\n",
    "    pred = clf.predict(features_test)\n",
    "    print(\"Manual Tuning Decision tree algorithm time in %0.3fs\" % (time.time() - t0))\n",
    "\n",
    "    acc= metrics.accuracy_score(labels_test, pred)\n",
    "    print \"Tuning Accuracy: \", acc\n",
    "\n",
    "    # function for calculation ratio of true positives\n",
    "    # out of all positives (true + false)\n",
    "    print 'Manual Tuning Precision: ', metrics.precision_score(labels_test,pred)\n",
    "\n",
    "    # function for calculation ratio of true positives\n",
    "    # out of true positives and false negatives\n",
    "    print 'Manual Tuning Recall: ', metrics.recall_score(labels_test,pred)\n",
    "    print(classification_report( labels_test,pred))\n"
   ]
  },
  {
   "cell_type": "markdown",
   "metadata": {},
   "source": [
    "###### Gaussian Naive Bayes Manual Tuning with Default Settings"
   ]
  },
  {
   "cell_type": "code",
   "execution_count": 68,
   "metadata": {},
   "outputs": [
    {
     "name": "stdout",
     "output_type": "stream",
     "text": [
      "Manual Tuning Decision tree algorithm time in 0.005s\n",
      "Tuning Accuracy:  0.846153846154\n",
      "Manual Tuning Precision:  0.333333333333\n",
      "Manual Tuning Recall:  0.2\n",
      "             precision    recall  f1-score   support\n",
      "\n",
      "        0.0       0.89      0.94      0.91        34\n",
      "        1.0       0.33      0.20      0.25         5\n",
      "\n",
      "avg / total       0.82      0.85      0.83        39\n",
      "\n"
     ]
    }
   ],
   "source": [
    "GNB_1 = GNB_hypertuning(priors = None)"
   ]
  },
  {
   "cell_type": "markdown",
   "metadata": {},
   "source": [
    "###### Gaussian Naive Bayes Manual Tuning with Prior Probability Not POI at 90%"
   ]
  },
  {
   "cell_type": "code",
   "execution_count": 69,
   "metadata": {},
   "outputs": [
    {
     "name": "stdout",
     "output_type": "stream",
     "text": [
      "Manual Tuning Decision tree algorithm time in 0.002s\n",
      "Tuning Accuracy:  0.128205128205\n",
      "Manual Tuning Precision:  0.128205128205\n",
      "Manual Tuning Recall:  1.0\n",
      "             precision    recall  f1-score   support\n",
      "\n",
      "        0.0       0.00      0.00      0.00        34\n",
      "        1.0       0.13      1.00      0.23         5\n",
      "\n",
      "avg / total       0.02      0.13      0.03        39\n",
      "\n"
     ]
    },
    {
     "name": "stderr",
     "output_type": "stream",
     "text": [
      "C:\\Anaconda3\\envs\\python27\\lib\\site-packages\\sklearn\\metrics\\classification.py:1113: UndefinedMetricWarning: Precision and F-score are ill-defined and being set to 0.0 in labels with no predicted samples.\n",
      "  'precision', 'predicted', average, warn_for)\n"
     ]
    }
   ],
   "source": [
    "GNB_2 = GNB_hypertuning(priors = [.1,.9])"
   ]
  },
  {
   "cell_type": "markdown",
   "metadata": {},
   "source": [
    "###### Gaussian Naive Bayes Manual Tuning with Prior Probability Not POI at 60%"
   ]
  },
  {
   "cell_type": "code",
   "execution_count": 70,
   "metadata": {},
   "outputs": [
    {
     "name": "stdout",
     "output_type": "stream",
     "text": [
      "Manual Tuning Decision tree algorithm time in 0.001s\n",
      "Tuning Accuracy:  0.794871794872\n",
      "Manual Tuning Precision:  0.2\n",
      "Manual Tuning Recall:  0.2\n",
      "             precision    recall  f1-score   support\n",
      "\n",
      "        0.0       0.88      0.88      0.88        34\n",
      "        1.0       0.20      0.20      0.20         5\n",
      "\n",
      "avg / total       0.79      0.79      0.79        39\n",
      "\n"
     ]
    }
   ],
   "source": [
    "GNB_3 = GNB_hypertuning(priors = [.4,.6])"
   ]
  },
  {
   "cell_type": "markdown",
   "metadata": {},
   "source": [
    "###### Gaussian Naive Bayes Manual Tuning with Prior Probability Not POI at 10%"
   ]
  },
  {
   "cell_type": "code",
   "execution_count": 71,
   "metadata": {},
   "outputs": [
    {
     "name": "stdout",
     "output_type": "stream",
     "text": [
      "Manual Tuning Decision tree algorithm time in 0.001s\n",
      "Tuning Accuracy:  0.846153846154\n",
      "Manual Tuning Precision:  0.333333333333\n",
      "Manual Tuning Recall:  0.2\n",
      "             precision    recall  f1-score   support\n",
      "\n",
      "        0.0       0.89      0.94      0.91        34\n",
      "        1.0       0.33      0.20      0.25         5\n",
      "\n",
      "avg / total       0.82      0.85      0.83        39\n",
      "\n"
     ]
    }
   ],
   "source": [
    "GNB_4 = GNB_hypertuning(priors = [.9,.1])"
   ]
  },
  {
   "cell_type": "markdown",
   "metadata": {},
   "source": [
    "| Metrics |  Gaussian Naive Bayes Algorithm Time before Tuning(seconds)  |Accuracy before Tuning|Precision Before Tuning|Recall before Tuning|F1-Score before Tuning|Gaussian Naive Bayes Algorithm Time after Tuning (seconds) |Accuracy after Tuning|Precision after Tuning|Recall after Tuning|F1-Score after Tuning|\n",
    "|--------|--------|--------|--------|--------|--------|--------|--------|------|------|----|\n",
    "|  Default Settings | 0.005| 0.846| 0.33| 0.20| 0.25| **0.005**| **0.846**| **0.33**| **0.20**| **0.25**|\n",
    "|Non-POI 90% | 0.005| 0.846| 0.33| 0.20| 0.25| **0.002**| **0.128**|**0.13**| **1.00**| **0.23**|\n",
    "|Non-POI 60%| 0.005| 0.846| 0.33| 0.20| 0.25| **0.001**| **0.795**| **0.20**| **0.20**| **0.20**|\n",
    "|Non-POI 10% | 0.005| 0.846| 0.33| 0.20| 0.25| **0.001**| **0.846**|** .33**| **0.20 **|**0.25**|\n",
    "\n",
    "We observe the Gaussian Naive Bayes implementation is best with default settings, or prior probability of Non-POI at/around 10%."
   ]
  },
  {
   "cell_type": "markdown",
   "metadata": {
    "nbpresent": {
     "id": "f949bd90-433f-4de9-8a31-066e96c49f69"
    }
   },
   "source": [
    "##### Decision Tree Algorithm with Manual tuning Cases\n",
    "\n",
    "The following are several manual Hypertuning cases of the Decision Tree Classifier. In each scenario, we modify the following classifier's parameters:\n",
    "\n",
    "1. Max Depth\n",
    "\n",
    "2. Min Samples Split\n",
    "\n",
    "3. Min Samples Leaf \n",
    "\n",
    "4. Min Weight Fraction Leaf"
   ]
  },
  {
   "cell_type": "code",
   "execution_count": 72,
   "metadata": {
    "collapsed": true,
    "nbpresent": {
     "id": "73bfc9be-0f69-49b7-9f8b-acf1c204b332"
    }
   },
   "outputs": [],
   "source": [
    "def DTA_hyperTuning(max_depth, min_samples_split, min_samples_leaf, \n",
    "                    min_weight_fraction_leaf):    \n",
    "    #Modified Parameters\n",
    "    ## use manual tuning parameter min_samples_split\n",
    "    \n",
    "    #Start Timer\n",
    "    t0 = time.time()\n",
    "    clf = DecisionTreeClassifier(max_depth = max_depth, min_samples_split=min_samples_split, \n",
    "                                      min_samples_leaf=min_samples_leaf, min_weight_fraction_leaf=min_weight_fraction_leaf)\n",
    "    clf = clf.fit(features_train,labels_train)\n",
    "    pred= clf.predict(features_test)\n",
    "    print(\"Manual Tuning Decision tree algorithm time in %0.3fs\" % (time.time() - t0))\n",
    "\n",
    "    acc= metrics.accuracy_score(labels_test, pred)\n",
    "    print \"Tuning Accuracy: \", acc\n",
    "\n",
    "    # function for calculation ratio of true positives\n",
    "    # out of all positives (true + false)\n",
    "    print 'Manual Tuning Precision: ', metrics.precision_score(labels_test,pred)\n",
    "\n",
    "    # function for calculation ratio of true positives\n",
    "    # out of true positives and false negatives\n",
    "    print 'Manual Tuning Recall: ', metrics.recall_score(labels_test,pred)\n",
    "    print(classification_report( labels_test,pred))"
   ]
  },
  {
   "cell_type": "markdown",
   "metadata": {},
   "source": [
    "###### Decision Tree Algorithm with Default Settings"
   ]
  },
  {
   "cell_type": "code",
   "execution_count": 73,
   "metadata": {
    "nbpresent": {
     "id": "607bdcb4-cc2a-4e6e-a985-af6e4bc260cb"
    }
   },
   "outputs": [
    {
     "name": "stdout",
     "output_type": "stream",
     "text": [
      "Manual Tuning Decision tree algorithm time in 0.003s\n",
      "Tuning Accuracy:  0.820512820513\n",
      "Manual Tuning Precision:  0.333333333333\n",
      "Manual Tuning Recall:  0.4\n",
      "             precision    recall  f1-score   support\n",
      "\n",
      "        0.0       0.91      0.88      0.90        34\n",
      "        1.0       0.33      0.40      0.36         5\n",
      "\n",
      "avg / total       0.84      0.82      0.83        39\n",
      "\n"
     ]
    }
   ],
   "source": [
    "DTA_1 = DTA_hyperTuning(max_depth = None, min_samples_split=2, min_samples_leaf=1, \n",
    "                    min_weight_fraction_leaf=0)"
   ]
  },
  {
   "cell_type": "markdown",
   "metadata": {},
   "source": [
    "###### Decision Tree Algorithm with Min Weight Fraction Leaf Parameter altered"
   ]
  },
  {
   "cell_type": "code",
   "execution_count": 74,
   "metadata": {
    "nbpresent": {
     "id": "ea2e072a-5d32-4991-97c3-5d7577551641"
    }
   },
   "outputs": [
    {
     "name": "stdout",
     "output_type": "stream",
     "text": [
      "Manual Tuning Decision tree algorithm time in 0.002s\n",
      "Tuning Accuracy:  0.820512820513\n",
      "Manual Tuning Precision:  0.333333333333\n",
      "Manual Tuning Recall:  0.4\n",
      "             precision    recall  f1-score   support\n",
      "\n",
      "        0.0       0.91      0.88      0.90        34\n",
      "        1.0       0.33      0.40      0.36         5\n",
      "\n",
      "avg / total       0.84      0.82      0.83        39\n",
      "\n"
     ]
    }
   ],
   "source": [
    "DTA_2 = DTA_hyperTuning(max_depth = None, min_samples_split=2, min_samples_leaf=1, \n",
    "                    min_weight_fraction_leaf=0.0001)"
   ]
  },
  {
   "cell_type": "markdown",
   "metadata": {},
   "source": [
    "###### Decision Tree Algorithm with Min Sample Split Parameter Altered"
   ]
  },
  {
   "cell_type": "code",
   "execution_count": 75,
   "metadata": {
    "nbpresent": {
     "id": "582ea9b0-e348-4970-ae01-819561156be8"
    }
   },
   "outputs": [
    {
     "name": "stdout",
     "output_type": "stream",
     "text": [
      "Manual Tuning Decision tree algorithm time in 0.001s\n",
      "Tuning Accuracy:  0.820512820513\n",
      "Manual Tuning Precision:  0.333333333333\n",
      "Manual Tuning Recall:  0.4\n",
      "             precision    recall  f1-score   support\n",
      "\n",
      "        0.0       0.91      0.88      0.90        34\n",
      "        1.0       0.33      0.40      0.36         5\n",
      "\n",
      "avg / total       0.84      0.82      0.83        39\n",
      "\n"
     ]
    }
   ],
   "source": [
    "DTA_3 = DTA_hyperTuning(max_depth = None, min_samples_split=3, min_samples_leaf=1, \n",
    "                    min_weight_fraction_leaf=0)"
   ]
  },
  {
   "cell_type": "markdown",
   "metadata": {},
   "source": [
    "###### Decision Tree Algorithm with Min Sample Leaf Parameter Altered"
   ]
  },
  {
   "cell_type": "code",
   "execution_count": 76,
   "metadata": {
    "nbpresent": {
     "id": "12ff643d-2a5a-429b-89b8-348ac1e2c443"
    }
   },
   "outputs": [
    {
     "name": "stdout",
     "output_type": "stream",
     "text": [
      "Manual Tuning Decision tree algorithm time in 0.002s\n",
      "Tuning Accuracy:  0.846153846154\n",
      "Manual Tuning Precision:  0.333333333333\n",
      "Manual Tuning Recall:  0.2\n",
      "             precision    recall  f1-score   support\n",
      "\n",
      "        0.0       0.89      0.94      0.91        34\n",
      "        1.0       0.33      0.20      0.25         5\n",
      "\n",
      "avg / total       0.82      0.85      0.83        39\n",
      "\n"
     ]
    }
   ],
   "source": [
    "DTA_4 = DTA_hyperTuning(max_depth = None, min_samples_split=2, min_samples_leaf=5, \n",
    "                    min_weight_fraction_leaf=0)"
   ]
  },
  {
   "cell_type": "code",
   "execution_count": 77,
   "metadata": {
    "nbpresent": {
     "id": "0a580b11-fe2c-42aa-be04-88a6eb81d951"
    }
   },
   "outputs": [
    {
     "name": "stdout",
     "output_type": "stream",
     "text": [
      "Manual Tuning Decision tree algorithm time in 0.001s\n",
      "Tuning Accuracy:  0.820512820513\n",
      "Manual Tuning Precision:  0.333333333333\n",
      "Manual Tuning Recall:  0.4\n",
      "             precision    recall  f1-score   support\n",
      "\n",
      "        0.0       0.91      0.88      0.90        34\n",
      "        1.0       0.33      0.40      0.36         5\n",
      "\n",
      "avg / total       0.84      0.82      0.83        39\n",
      "\n"
     ]
    }
   ],
   "source": [
    "DTA_5 = DTA_hyperTuning(max_depth = 7, min_samples_split=2, min_samples_leaf=1, \n",
    "                    min_weight_fraction_leaf=0)"
   ]
  },
  {
   "cell_type": "markdown",
   "metadata": {
    "nbpresent": {
     "id": "b226cd00-1887-4405-b43d-d3e6b2b89e55"
    }
   },
   "source": [
    "We have tuned several parameters for obtaining the best accurate, precise, and good recall model, manually. Below is a summary recap of our manual tuning."
   ]
  },
  {
   "cell_type": "markdown",
   "metadata": {
    "nbpresent": {
     "id": "0d01561e-afc4-45a0-bf2b-9d6d090aee51"
    }
   },
   "source": [
    "| Metrics |  Decision Tree Algorithm Time before Tuning(seconds)  |Accuracy before Tuning|Precision Before Tuning|Recall before Tuning|F1-Score before Tuning| Decision Tree Algorithm Time after Tuning (seconds) |Accuracy after Tuning|Precision after Tuning|Recall after Tuning|F1-Score after Tuning|\n",
    "|--------|--------|--------|--------|--------|--------|--------|--------|------|------|----|\n",
    "|  Default Settings | 0.003| 0.821| 0.33| 0.40| 0.36| **0.003**| **0.821**| **0.33**| **0.40**| **0.36**|\n",
    "|min_weight_fraction_leaf=0.0001 | 0.003| 0.821| 0.33| 0.40| 0.36| **0.002**| **0.821**|**0.33**| **0.40**| **0.36**|\n",
    "|min_samples_split=3| 0.003| 0.821| 0.33| 0.40| 0.36| **0.001**| **0.8210**| **0.33**| **0.40**| **0.36**|\n",
    "|min_samples_leaf=5 | 0.003| 0.821| 0.33| 0.40| 0.36| **0.002**| **0.8462**|** .33**| **0.20 **|**0.25**|\n",
    "|max_depth = 7 | 0.003| 0.821| 0.33| 0.40| 0.36| **0.001**| **0.821**| **0.33**| **0.40**| **0.36**|"
   ]
  },
  {
   "cell_type": "markdown",
   "metadata": {
    "nbpresent": {
     "id": "96fd3dcc-a1d1-40ed-8b36-ba6cca751b3f"
    }
   },
   "source": [
    "Everything highlighted in bold, the latter five columns are different parameters being tuned. The firt five columns are the default Decision Tree Algorithm model output.\n",
    "\n",
    "We observe our model being more optimal for an alteration in The minimum fraction leaf, maximum depth, or the minimum sample leafs.\n",
    "\n",
    "Though, we could have done additional hypertuning, we best carry on with the process. \n",
    ">If the reader would like to learn more, they can download the project and data, and continue with this process themselves.\n",
    "\n",
    "From the tester tuning these parameters, they can\n",
    "1. Evaluated our data faster\n",
    "2. Confirmed Optimal Accuracy\n",
    "\n",
    "##### Automated HyperTuning\n",
    "\n",
    "Going through this manual tuning is both tedious and largely time consuming. Luckily, there exist implemenations to avoid such hassles, and find some optimal model parameters for some given features. The following is a Pipleline and Grid Search combination to implement hypertuning.\n",
    "\n",
    "Hyperparameter optimizing is the problem of choosing a set of optimal hyperparameters for a learning algorithm. We ensure the model does not, for example, overfit its data by (over)tuning. Moreover, the opportunity of better model performance is more likely.\n",
    "\n",
    "We implement cross validation and testing from optimally identifying model parameters within the Gaussian Naive Baye's and Decision Tree implementation."
   ]
  },
  {
   "cell_type": "code",
   "execution_count": 78,
   "metadata": {},
   "outputs": [
    {
     "name": "stderr",
     "output_type": "stream",
     "text": [
      "C:\\Anaconda3\\envs\\python27\\lib\\site-packages\\sklearn\\grid_search.py:43: DeprecationWarning: This module was deprecated in version 0.18 in favor of the model_selection module into which all the refactored classes and functions are moved. This module will be removed in 0.20.\n",
      "  DeprecationWarning)\n"
     ]
    }
   ],
   "source": [
    "from sklearn.feature_selection import SelectKBest\n",
    "from sklearn.cross_validation import StratifiedShuffleSplit\n",
    "from sklearn.tree import DecisionTreeClassifier\n",
    "from sklearn.pipeline import Pipeline\n",
    "from sklearn.grid_search import GridSearchCV"
   ]
  },
  {
   "cell_type": "markdown",
   "metadata": {},
   "source": [
    "Gaussian Naive Baye HyperTuning"
   ]
  },
  {
   "cell_type": "code",
   "execution_count": 79,
   "metadata": {},
   "outputs": [
    {
     "name": "stderr",
     "output_type": "stream",
     "text": [
      "C:\\Anaconda3\\envs\\python27\\lib\\site-packages\\sklearn\\metrics\\classification.py:1113: UndefinedMetricWarning: F-score is ill-defined and being set to 0.0 due to no predicted samples.\n",
      "  'precision', 'predicted', average, warn_for)\n"
     ]
    },
    {
     "name": "stdout",
     "output_type": "stream",
     "text": [
      "Fitting 100 folds for each of 16 candidates, totalling 1600 fits\n",
      "Pipeline(steps=[('kbest', SelectKBest(k='all', score_func=<function f_classif at 0x00000000099B1438>)), ('gnb', GaussianNB(priors=None))])\n"
     ]
    },
    {
     "name": "stderr",
     "output_type": "stream",
     "text": [
      "[Parallel(n_jobs=1)]: Done 1600 out of 1600 | elapsed:    8.8s finished\n"
     ]
    }
   ],
   "source": [
    "folds = 100\n",
    "kbest = SelectKBest()\n",
    "\n",
    "# A stratified shuffle split is used here to counter the effects of the class imbalance problem\n",
    "sss = StratifiedShuffleSplit(labels, folds, random_state = 11)\n",
    "\n",
    "# We could initially test a default decision tree classifier.  The tree could be fine-tuned as well.\n",
    "gnb = GaussianNB()\n",
    "\n",
    "# A pipeline is used to chain the SelectKBest and Decision Tree\n",
    "pipeline = Pipeline([('kbest', kbest), ('gnb', gnb)])\n",
    "param_grid = {'kbest__k':['all',2,3,5],'gnb__priors':[None,[.1,.9],[.9,.1],[.5,.5]]}\n",
    "grid_search = GridSearchCV(estimator = pipeline, \n",
    "                           param_grid = param_grid,\n",
    "                           scoring = 'f1',\n",
    "                           cv = sss,\n",
    "                           verbose = 1)\n",
    "grid_search.fit(features, labels)\n",
    "clf = grid_search.best_estimator_\n",
    "print(clf)"
   ]
  },
  {
   "cell_type": "markdown",
   "metadata": {},
   "source": [
    "Our results show that the Gaussian Naive Bayes Classifier parameters should be tuned to the following value:\n",
    "\n",
    "1. Priors: None"
   ]
  },
  {
   "cell_type": "code",
   "execution_count": 80,
   "metadata": {},
   "outputs": [
    {
     "name": "stdout",
     "output_type": "stream",
     "text": [
      "Manual Tuning Decision tree algorithm time in 0.001s\n",
      "Tuning Accuracy:  0.846153846154\n",
      "Manual Tuning Precision:  0.333333333333\n",
      "Manual Tuning Recall:  0.2\n",
      "             precision    recall  f1-score   support\n",
      "\n",
      "        0.0       0.89      0.94      0.91        34\n",
      "        1.0       0.33      0.20      0.25         5\n",
      "\n",
      "avg / total       0.82      0.85      0.83        39\n",
      "\n"
     ]
    }
   ],
   "source": [
    "GNB_hypertuning(None)"
   ]
  },
  {
   "cell_type": "markdown",
   "metadata": {},
   "source": [
    "Decision Tree HyperTuning"
   ]
  },
  {
   "cell_type": "code",
   "execution_count": 81,
   "metadata": {},
   "outputs": [
    {
     "name": "stdout",
     "output_type": "stream",
     "text": [
      "Fitting 100 folds for each of 162 candidates, totalling 16200 fits\n",
      "Pipeline(steps=[('kbest', SelectKBest(k='all', score_func=<function f_classif at 0x00000000099B1438>)), ('dtree', DecisionTreeClassifier(class_weight=None, criterion='gini', max_depth=5,\n",
      "            max_features=None, max_leaf_nodes=None,\n",
      "            min_impurity_split=1e-07, min_samples_leaf=7,\n",
      "            min_samples_split=7, min_weight_fraction_leaf=0.04,\n",
      "            presort=False, random_state=None, splitter='best'))])\n"
     ]
    },
    {
     "name": "stderr",
     "output_type": "stream",
     "text": [
      "[Parallel(n_jobs=1)]: Done 16200 out of 16200 | elapsed:  1.8min finished\n"
     ]
    }
   ],
   "source": [
    "folds = 100\n",
    "kbest = SelectKBest()\n",
    "\n",
    "# A stratified shuffle split is used here to counter the effects of the class imbalance problem\n",
    "sss = StratifiedShuffleSplit(labels, folds, random_state = 11)\n",
    "\n",
    "# We could initially test a default decision tree classifier.  The tree could be fine-tuned as well.\n",
    "dtree = DecisionTreeClassifier()\n",
    "\n",
    "# A pipeline is used to chain the SelectKBest and Decision Tree\n",
    "pipeline = Pipeline([('kbest', kbest), ('dtree', dtree)])\n",
    "param_grid = {'kbest__k':['all',3],'dtree__min_samples_split':[6,7,8],'dtree__max_depth':[3,4,5],\n",
    "             'dtree__min_samples_leaf':[3,5],'dtree__min_samples_leaf':[5,6,7],'dtree__min_weight_fraction_leaf':[0.001,0.02,0.04]}\n",
    "grid_search = GridSearchCV(estimator = pipeline, \n",
    "                           param_grid = param_grid,\n",
    "                           scoring = 'f1',\n",
    "                           cv = sss,\n",
    "                           verbose = 1)\n",
    "grid_search.fit(features, labels)\n",
    "clf = grid_search.best_estimator_\n",
    "print(clf)"
   ]
  },
  {
   "cell_type": "markdown",
   "metadata": {
    "nbpresent": {
     "id": "1af19d0d-65e7-4dbc-ac7f-e0f794f576bb"
    }
   },
   "source": [
    "Our results show that the Decision Tree Classifier parameters should be tuned to the following values:\n",
    "\n",
    "- class_weight=None\n",
    "- criterion='gini'\n",
    "- max_depth=5,\n",
    "- max_features=None\n",
    "- max_leaf_nodes=None\n",
    "- min_impurity_split=1e-07\n",
    "- min_samples_leaf=7\n",
    "- min_samples_split=8 \n",
    "- min_weight_fraction_leaf=0.04\n",
    "- splitter='best'\n",
    "\n",
    "Comparing the two models, we observe that the Decision Tree Classifier brings in a .20 increase in precision for classiying POI, compared to the Gaussian Naive Bayes implementation. \n",
    "##### Validating the Decision Tree Algorithm with Hypertuning \n",
    "\n",
    "We validate how well our Decision Tree Algorithm performed with HyperTuning.  "
   ]
  },
  {
   "cell_type": "code",
   "execution_count": 86,
   "metadata": {
    "nbpresent": {
     "id": "b36e82b2-29c2-4e8f-ab56-fc8edb938b5c"
    }
   },
   "outputs": [
    {
     "name": "stdout",
     "output_type": "stream",
     "text": [
      "Accuracy before tuning:  0.871794871795\n",
      "Precision before tuning:  0.2\n",
      "Recall before tuning:  0.5\n",
      "Decision tree algorithm time: 0.937 s\n",
      "\n",
      "Decision tree algorithm, with tuning, time in 0.003s\n",
      "Accuracy after tuning:  0.897435897436\n",
      "After tuning precision:  0.666666666667\n",
      "After tuning recall:  0.4\n",
      "             precision    recall  f1-score   support\n",
      "\n",
      "        0.0       0.92      0.97      0.94        34\n",
      "        1.0       0.67      0.40      0.50         5\n",
      "\n",
      "avg / total       0.88      0.90      0.89        39\n",
      "\n"
     ]
    }
   ],
   "source": [
    "t0 = time.time()\n",
    "\n",
    "clf_DTC1 = DecisionTreeClassifier(class_weight=None, criterion='gini', max_depth=5,\n",
    "            max_features=None, max_leaf_nodes=None,\n",
    "            min_impurity_split=1e-07, min_samples_leaf=5,\n",
    "            min_samples_split=6, min_weight_fraction_leaf=0.02,\n",
    "            presort=False, random_state=None, splitter='best')\n",
    "clf_DTC1.fit(features_train,labels_train)\n",
    "pred_decisionTree = clf_DTC1.predict(features_test)\n",
    "score = clf_DTC1.score(features_test,labels_test)\n",
    "print 'Accuracy before tuning: ', score\n",
    "decTree_precision_1 = metrics.precision_score(pred_decisionTree,labels_test)\n",
    "decTree_recall_1 = metrics.recall_score(pred_decisionTree,labels_test)\n",
    "print 'Precision before tuning: ', decTree_precision_1\n",
    "print 'Recall before tuning: ', decTree_recall_1\n",
    "print \"Decision tree algorithm time:\", round(time.time()-t0, 3), \"s\"\n",
    "\n",
    "print \n",
    "### use manual tuning parameter min_samples_split\n",
    "t0 = time.time()\n",
    "clf = DecisionTreeClassifier(class_weight=None, criterion='gini', max_depth=None,\n",
    "            max_features=None, max_leaf_nodes=None,\n",
    "            min_impurity_split=1e-07, min_samples_leaf=1,\n",
    "            min_samples_split=6, min_weight_fraction_leaf=0.0,\n",
    "            presort=False, random_state=None, splitter='best')\n",
    "clf = clf.fit(features_train,labels_train)\n",
    "pred= clf.predict(features_test)\n",
    "print(\"Decision tree algorithm, with tuning, time in %0.3fs\" % (time.time() - t0))\n",
    "\n",
    "acc= metrics.accuracy_score(labels_test, pred)\n",
    "print \"Accuracy after tuning: \", acc\n",
    "\n",
    "# function for calculation ratio of true positives\n",
    "# out of all positives (true + false)\n",
    "print 'After tuning precision: ', metrics.precision_score(labels_test,pred)\n",
    "\n",
    "# function for calculation ratio of true positives\n",
    "# out of true positives and false negatives\n",
    "print 'After tuning recall: ', metrics.recall_score(labels_test,pred)\n",
    "print(classification_report(labels_test,pred))\n",
    "\n"
   ]
  },
  {
   "cell_type": "markdown",
   "metadata": {},
   "source": [
    "We obtain outstanding results!\n",
    "\n",
    "We observe that our model can Predict POI for fraudulent Enron Employees 89.75% of the time. Moreover, the model's precision is 67% and recall being 40%\n",
    "\n",
    "The following is testing our Decision Tree Classifier"
   ]
  },
  {
   "cell_type": "code",
   "execution_count": 83,
   "metadata": {
    "collapsed": true
   },
   "outputs": [],
   "source": [
    "\n",
    "PERF_FORMAT_STRING = \"\\\n",
    "\\tAccuracy: {:>0.{display_precision}f}\\tPrecision: {:>0.{display_precision}f}\\t\\\n",
    "Recall: {:>0.{display_precision}f}\\tF1: {:>0.{display_precision}f}\\tF2: {:>0.{display_precision}f}\"\n",
    "RESULTS_FORMAT_STRING = \"\\tTotal predictions: {:4d}\\tTrue positives: {:4d}\\tFalse positives: {:4d}\\\n",
    "\\tFalse negatives: {:4d}\\tTrue negatives: {:4d}\"\n",
    "\n",
    "def test_classifier(clf, dataset, feature_list, folds = 1000):\n",
    "    data = featureFormat(dataset, feature_list, sort_keys = True)\n",
    "    labels, features = targetFeatureSplit(data)\n",
    "    sss = StratifiedShuffleSplit(labels, folds, random_state = 14)\n",
    "    true_negatives = 0\n",
    "    false_negatives = 0\n",
    "    true_positives = 0\n",
    "    false_positives = 0\n",
    "\n",
    "    for i_train, i_test in sss:\n",
    "        features_train = []\n",
    "        features_test  = []\n",
    "        labels_train   = []\n",
    "        labels_test    = []\n",
    "        features_train, features_test = [features[i] for i in i_train],[features[i] for i in i_test]\n",
    "        labels_train, labels_test = [labels[i] for i in i_train], [labels[i] for i in i_test]\n",
    "\n",
    "\n",
    "    ### fit the classifier using training set, and test on test set\n",
    "    clf.fit(features_train, labels_train)\n",
    "    predictions = clf.predict(features_test)\n",
    "    for prediction, truth in zip(predictions, labels_test):\n",
    "        if prediction == 0 and truth == 0:\n",
    "            true_negatives += 1\n",
    "        elif prediction == 0 and truth == 1:\n",
    "            false_negatives += 1\n",
    "        elif prediction == 1 and truth == 0:\n",
    "            false_positives += 1\n",
    "        elif prediction == 1 and truth == 1:\n",
    "            true_positives += 1\n",
    "        else:\n",
    "            print \"Warning: Found a predicted label not == 0 or 1.\"\n",
    "            print \"All predictions should take value 0 or 1.\"\n",
    "            print \"Evaluating performance for processed predictions:\"\n",
    "            break\n",
    "    try:\n",
    "        total_predictions = true_negatives + false_negatives + false_positives + true_positives\n",
    "        accuracy = 1.0*(true_positives + true_negatives)/total_predictions\n",
    "        precision = 1.0*true_positives/(true_positives+false_positives)\n",
    "        recall = 1.0*true_positives/(true_positives+false_negatives)\n",
    "        f1 = 2.0 * true_positives/(2*true_positives + false_positives+false_negatives)\n",
    "        f2 = (1+2.0*2.0) * precision*recall/(4*precision + recall)\n",
    "        print clf\n",
    "        print PERF_FORMAT_STRING.format(accuracy, precision, recall, f1, f2, display_precision = 5)\n",
    "        print RESULTS_FORMAT_STRING.format(total_predictions, true_positives, false_positives, false_negatives, true_negatives)\n",
    "        print \"\"\n",
    "    except:\n",
    "        print \"Got a divide by zero when trying out:\", clf\n",
    "        print \"Precision or recall may be undefined due to a lack of true positive predicitons.\"\n"
   ]
  },
  {
   "cell_type": "code",
   "execution_count": 84,
   "metadata": {
    "nbpresent": {
     "id": "405506bd-3fe8-4e2d-8e41-99a5adfd553c"
    },
    "scrolled": true
   },
   "outputs": [
    {
     "name": "stdout",
     "output_type": "stream",
     "text": [
      "DecisionTreeClassifier(class_weight=None, criterion='gini', max_depth=5,\n",
      "            max_features=None, max_leaf_nodes=None,\n",
      "            min_impurity_split=1e-07, min_samples_leaf=5,\n",
      "            min_samples_split=6, min_weight_fraction_leaf=0.02,\n",
      "            presort=False, random_state=None, splitter='best')\n",
      "\tAccuracy: 0.84615\tPrecision: 0.50000\tRecall: 0.50000\tF1: 0.50000\tF2: 0.50000\n",
      "\tTotal predictions:   13\tTrue positives:    1\tFalse positives:    1\tFalse negatives:    1\tTrue negatives:   10\n",
      "\n"
     ]
    }
   ],
   "source": [
    "t = test_classifier(clf_DTC1, dataset_final_version, features_list)"
   ]
  },
  {
   "cell_type": "markdown",
   "metadata": {
    "nbpresent": {
     "id": "d13d5fc1-302e-4fe2-bed7-d680af95ced9"
    }
   },
   "source": [
    "### Save Classifiers"
   ]
  },
  {
   "cell_type": "code",
   "execution_count": 85,
   "metadata": {
    "collapsed": true,
    "nbpresent": {
     "id": "4caf9629-f7a2-4cac-8d26-7d163fc08882"
    }
   },
   "outputs": [],
   "source": [
    "pickle.dump(clf_DTC1, open(\"../../Output-Files/my_classifier.pkl\", \"w\") )\n",
    "pickle.dump(dataset_final_version, open(\"../../Output-Files/my_dataset.pkl\", \"w\") )\n",
    "pickle.dump(features_list, open(\"../../Output-Files/my_feature_list.pkl\", \"w\") )"
   ]
  },
  {
   "cell_type": "markdown",
   "metadata": {
    "nbpresent": {
     "id": "beb2d15d-e55d-478b-a69d-e91b479ecb9d"
    }
   },
   "source": [
    "## Wrap-Up\n",
    "**Summary, Remarks, Conclusion, Resources, and Data Dictionary are found in the \"Enron Person of Interest Report\"**"
   ]
  }
 ],
 "metadata": {
  "anaconda-cloud": {},
  "kernelspec": {
   "display_name": "Python [conda env:python27]",
   "language": "python",
   "name": "conda-env-python27-py"
  },
  "language_info": {
   "codemirror_mode": {
    "name": "ipython",
    "version": 2
   },
   "file_extension": ".py",
   "mimetype": "text/x-python",
   "name": "python",
   "nbconvert_exporter": "python",
   "pygments_lexer": "ipython2",
   "version": "2.7.13"
  }
 },
 "nbformat": 4,
 "nbformat_minor": 2
}
